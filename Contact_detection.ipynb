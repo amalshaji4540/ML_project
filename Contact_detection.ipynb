{
 "cells": [
  {
   "cell_type": "code",
   "execution_count": 4,
   "id": "aa6b7837",
   "metadata": {},
   "outputs": [],
   "source": [
    "import pandas as pd\n",
    "import matplotlib.pyplot as plt\n",
    "import numpy as np\n",
    "from sklearn.metrics import accuracy_score\n",
    "from sklearn.model_selection import GridSearchCV"
   ]
  },
  {
   "cell_type": "code",
   "execution_count": 5,
   "id": "ae580d2e",
   "metadata": {},
   "outputs": [],
   "source": [
    "#reading csv file using pandas\n",
    "df=pd.read_csv('./contact_detection_train.csv')\n",
    "data=df.copy()"
   ]
  },
  {
   "cell_type": "code",
   "execution_count": 6,
   "id": "7606cd97",
   "metadata": {},
   "outputs": [
    {
     "data": {
      "text/html": [
       "<div>\n",
       "<style scoped>\n",
       "    .dataframe tbody tr th:only-of-type {\n",
       "        vertical-align: middle;\n",
       "    }\n",
       "\n",
       "    .dataframe tbody tr th {\n",
       "        vertical-align: top;\n",
       "    }\n",
       "\n",
       "    .dataframe thead th {\n",
       "        text-align: right;\n",
       "    }\n",
       "</style>\n",
       "<table border=\"1\" class=\"dataframe\">\n",
       "  <thead>\n",
       "    <tr style=\"text-align: right;\">\n",
       "      <th></th>\n",
       "      <th>Var1</th>\n",
       "      <th>Var2</th>\n",
       "      <th>Var3</th>\n",
       "      <th>Var4</th>\n",
       "      <th>Var5</th>\n",
       "      <th>Var6</th>\n",
       "      <th>Var7</th>\n",
       "      <th>Var8</th>\n",
       "      <th>Var9</th>\n",
       "      <th>Var10</th>\n",
       "      <th>...</th>\n",
       "      <th>Var776</th>\n",
       "      <th>Var777</th>\n",
       "      <th>Var778</th>\n",
       "      <th>Var779</th>\n",
       "      <th>Var780</th>\n",
       "      <th>Var781</th>\n",
       "      <th>Var782</th>\n",
       "      <th>Var783</th>\n",
       "      <th>Var784</th>\n",
       "      <th>Var785</th>\n",
       "    </tr>\n",
       "  </thead>\n",
       "  <tbody>\n",
       "    <tr>\n",
       "      <th>1058</th>\n",
       "      <td>Noncontact</td>\n",
       "      <td>-0.193669</td>\n",
       "      <td>-11.1691</td>\n",
       "      <td>0.111912</td>\n",
       "      <td>21.3641</td>\n",
       "      <td>0.305874</td>\n",
       "      <td>2.29375</td>\n",
       "      <td>0.031236</td>\n",
       "      <td>-0.139398</td>\n",
       "      <td>0.182022</td>\n",
       "      <td>...</td>\n",
       "      <td>-0.000254</td>\n",
       "      <td>-8.344650e-06</td>\n",
       "      <td>5.066390e-06</td>\n",
       "      <td>0.000534</td>\n",
       "      <td>0.001099</td>\n",
       "      <td>-0.000195</td>\n",
       "      <td>-0.000355</td>\n",
       "      <td>0.000101</td>\n",
       "      <td>-0.000132</td>\n",
       "      <td>0.005909</td>\n",
       "    </tr>\n",
       "    <tr>\n",
       "      <th>1542</th>\n",
       "      <td>Noncontact</td>\n",
       "      <td>-0.193669</td>\n",
       "      <td>-11.1294</td>\n",
       "      <td>0.111912</td>\n",
       "      <td>21.4038</td>\n",
       "      <td>0.295803</td>\n",
       "      <td>2.31480</td>\n",
       "      <td>0.011095</td>\n",
       "      <td>-0.152465</td>\n",
       "      <td>0.230862</td>\n",
       "      <td>...</td>\n",
       "      <td>-0.000249</td>\n",
       "      <td>4.768370e-07</td>\n",
       "      <td>-9.655950e-06</td>\n",
       "      <td>0.000398</td>\n",
       "      <td>-0.000421</td>\n",
       "      <td>-0.000121</td>\n",
       "      <td>0.000028</td>\n",
       "      <td>-0.000277</td>\n",
       "      <td>0.000914</td>\n",
       "      <td>-0.000268</td>\n",
       "    </tr>\n",
       "    <tr>\n",
       "      <th>875</th>\n",
       "      <td>Noncontact</td>\n",
       "      <td>0.449031</td>\n",
       "      <td>-13.0813</td>\n",
       "      <td>0.417393</td>\n",
       "      <td>18.9639</td>\n",
       "      <td>0.429470</td>\n",
       "      <td>2.24156</td>\n",
       "      <td>0.214342</td>\n",
       "      <td>-0.019223</td>\n",
       "      <td>-0.262248</td>\n",
       "      <td>...</td>\n",
       "      <td>-0.000104</td>\n",
       "      <td>-4.215240e-04</td>\n",
       "      <td>8.329150e-04</td>\n",
       "      <td>0.006711</td>\n",
       "      <td>-0.001049</td>\n",
       "      <td>0.000818</td>\n",
       "      <td>-0.000837</td>\n",
       "      <td>-0.000155</td>\n",
       "      <td>0.003710</td>\n",
       "      <td>-0.004566</td>\n",
       "    </tr>\n",
       "    <tr>\n",
       "      <th>1116</th>\n",
       "      <td>Noncontact</td>\n",
       "      <td>0.147518</td>\n",
       "      <td>-13.9065</td>\n",
       "      <td>0.226963</td>\n",
       "      <td>18.9282</td>\n",
       "      <td>0.514614</td>\n",
       "      <td>2.28276</td>\n",
       "      <td>0.132860</td>\n",
       "      <td>0.024822</td>\n",
       "      <td>-0.200503</td>\n",
       "      <td>...</td>\n",
       "      <td>-0.000099</td>\n",
       "      <td>-5.419250e-04</td>\n",
       "      <td>7.537600e-04</td>\n",
       "      <td>0.003807</td>\n",
       "      <td>0.002585</td>\n",
       "      <td>-0.001644</td>\n",
       "      <td>-0.001221</td>\n",
       "      <td>0.010880</td>\n",
       "      <td>0.004541</td>\n",
       "      <td>0.006479</td>\n",
       "    </tr>\n",
       "    <tr>\n",
       "      <th>685</th>\n",
       "      <td>Intentional_Link6</td>\n",
       "      <td>-0.495183</td>\n",
       "      <td>-14.0930</td>\n",
       "      <td>-0.653774</td>\n",
       "      <td>17.0874</td>\n",
       "      <td>0.572292</td>\n",
       "      <td>2.17839</td>\n",
       "      <td>-0.172011</td>\n",
       "      <td>-0.091229</td>\n",
       "      <td>-0.903944</td>\n",
       "      <td>...</td>\n",
       "      <td>0.000232</td>\n",
       "      <td>5.285740e-04</td>\n",
       "      <td>3.666160e-03</td>\n",
       "      <td>-0.046319</td>\n",
       "      <td>-0.020786</td>\n",
       "      <td>0.005583</td>\n",
       "      <td>-0.075433</td>\n",
       "      <td>0.004156</td>\n",
       "      <td>-0.006961</td>\n",
       "      <td>0.004643</td>\n",
       "    </tr>\n",
       "    <tr>\n",
       "      <th>373</th>\n",
       "      <td>Intentional_Link6</td>\n",
       "      <td>-2.387580</td>\n",
       "      <td>-13.1567</td>\n",
       "      <td>-2.189110</td>\n",
       "      <td>18.2894</td>\n",
       "      <td>0.639126</td>\n",
       "      <td>2.38805</td>\n",
       "      <td>-0.019118</td>\n",
       "      <td>-1.894550</td>\n",
       "      <td>0.889794</td>\n",
       "      <td>...</td>\n",
       "      <td>0.000039</td>\n",
       "      <td>-3.646850e-03</td>\n",
       "      <td>-9.495020e-05</td>\n",
       "      <td>-0.018996</td>\n",
       "      <td>-0.456944</td>\n",
       "      <td>-0.010083</td>\n",
       "      <td>-0.053551</td>\n",
       "      <td>0.004926</td>\n",
       "      <td>-0.370373</td>\n",
       "      <td>-0.002935</td>\n",
       "    </tr>\n",
       "    <tr>\n",
       "      <th>1072</th>\n",
       "      <td>Noncontact</td>\n",
       "      <td>-0.153996</td>\n",
       "      <td>-23.8089</td>\n",
       "      <td>0.072239</td>\n",
       "      <td>12.7352</td>\n",
       "      <td>0.115444</td>\n",
       "      <td>2.32487</td>\n",
       "      <td>-0.009047</td>\n",
       "      <td>-0.038308</td>\n",
       "      <td>-0.190546</td>\n",
       "      <td>...</td>\n",
       "      <td>0.000023</td>\n",
       "      <td>-5.545620e-04</td>\n",
       "      <td>-9.799000e-05</td>\n",
       "      <td>0.000202</td>\n",
       "      <td>-0.006952</td>\n",
       "      <td>-0.001572</td>\n",
       "      <td>0.003165</td>\n",
       "      <td>-0.000570</td>\n",
       "      <td>0.002057</td>\n",
       "      <td>0.001905</td>\n",
       "    </tr>\n",
       "    <tr>\n",
       "      <th>633</th>\n",
       "      <td>Collision_Link6</td>\n",
       "      <td>-0.876042</td>\n",
       "      <td>-26.4709</td>\n",
       "      <td>-0.768826</td>\n",
       "      <td>16.9763</td>\n",
       "      <td>0.353481</td>\n",
       "      <td>3.12962</td>\n",
       "      <td>0.184130</td>\n",
       "      <td>-0.824660</td>\n",
       "      <td>-3.879030</td>\n",
       "      <td>...</td>\n",
       "      <td>0.000007</td>\n",
       "      <td>3.234860e-03</td>\n",
       "      <td>3.576280e-07</td>\n",
       "      <td>0.008831</td>\n",
       "      <td>0.379918</td>\n",
       "      <td>0.002915</td>\n",
       "      <td>-0.000821</td>\n",
       "      <td>-0.000404</td>\n",
       "      <td>0.341014</td>\n",
       "      <td>0.000369</td>\n",
       "    </tr>\n",
       "    <tr>\n",
       "      <th>281</th>\n",
       "      <td>Collision_Link5</td>\n",
       "      <td>-4.732240</td>\n",
       "      <td>-18.5562</td>\n",
       "      <td>-5.600980</td>\n",
       "      <td>27.0690</td>\n",
       "      <td>2.342920</td>\n",
       "      <td>2.17839</td>\n",
       "      <td>0.092577</td>\n",
       "      <td>-4.082440</td>\n",
       "      <td>-2.781560</td>\n",
       "      <td>...</td>\n",
       "      <td>0.000027</td>\n",
       "      <td>1.748800e-03</td>\n",
       "      <td>4.429820e-04</td>\n",
       "      <td>0.050108</td>\n",
       "      <td>0.230181</td>\n",
       "      <td>0.002792</td>\n",
       "      <td>0.005184</td>\n",
       "      <td>0.001579</td>\n",
       "      <td>0.199316</td>\n",
       "      <td>0.038065</td>\n",
       "    </tr>\n",
       "    <tr>\n",
       "      <th>252</th>\n",
       "      <td>Intentional_Link5</td>\n",
       "      <td>-7.342720</td>\n",
       "      <td>-18.4451</td>\n",
       "      <td>-7.866300</td>\n",
       "      <td>16.2265</td>\n",
       "      <td>0.200588</td>\n",
       "      <td>2.12620</td>\n",
       "      <td>0.184130</td>\n",
       "      <td>-6.983720</td>\n",
       "      <td>-0.185141</td>\n",
       "      <td>...</td>\n",
       "      <td>0.000012</td>\n",
       "      <td>3.769640e-03</td>\n",
       "      <td>-2.622600e-05</td>\n",
       "      <td>-0.007446</td>\n",
       "      <td>0.425755</td>\n",
       "      <td>-0.008826</td>\n",
       "      <td>-0.043932</td>\n",
       "      <td>-0.005233</td>\n",
       "      <td>0.444054</td>\n",
       "      <td>-0.000835</td>\n",
       "    </tr>\n",
       "  </tbody>\n",
       "</table>\n",
       "<p>10 rows × 785 columns</p>\n",
       "</div>"
      ],
      "text/plain": [
       "                   Var1      Var2     Var3      Var4     Var5      Var6  \\\n",
       "1058         Noncontact -0.193669 -11.1691  0.111912  21.3641  0.305874   \n",
       "1542         Noncontact -0.193669 -11.1294  0.111912  21.4038  0.295803   \n",
       "875          Noncontact  0.449031 -13.0813  0.417393  18.9639  0.429470   \n",
       "1116         Noncontact  0.147518 -13.9065  0.226963  18.9282  0.514614   \n",
       "685   Intentional_Link6 -0.495183 -14.0930 -0.653774  17.0874  0.572292   \n",
       "373   Intentional_Link6 -2.387580 -13.1567 -2.189110  18.2894  0.639126   \n",
       "1072         Noncontact -0.153996 -23.8089  0.072239  12.7352  0.115444   \n",
       "633     Collision_Link6 -0.876042 -26.4709 -0.768826  16.9763  0.353481   \n",
       "281     Collision_Link5 -4.732240 -18.5562 -5.600980  27.0690  2.342920   \n",
       "252   Intentional_Link5 -7.342720 -18.4451 -7.866300  16.2265  0.200588   \n",
       "\n",
       "         Var7      Var8      Var9     Var10  ...    Var776        Var777  \\\n",
       "1058  2.29375  0.031236 -0.139398  0.182022  ... -0.000254 -8.344650e-06   \n",
       "1542  2.31480  0.011095 -0.152465  0.230862  ... -0.000249  4.768370e-07   \n",
       "875   2.24156  0.214342 -0.019223 -0.262248  ... -0.000104 -4.215240e-04   \n",
       "1116  2.28276  0.132860  0.024822 -0.200503  ... -0.000099 -5.419250e-04   \n",
       "685   2.17839 -0.172011 -0.091229 -0.903944  ...  0.000232  5.285740e-04   \n",
       "373   2.38805 -0.019118 -1.894550  0.889794  ...  0.000039 -3.646850e-03   \n",
       "1072  2.32487 -0.009047 -0.038308 -0.190546  ...  0.000023 -5.545620e-04   \n",
       "633   3.12962  0.184130 -0.824660 -3.879030  ...  0.000007  3.234860e-03   \n",
       "281   2.17839  0.092577 -4.082440 -2.781560  ...  0.000027  1.748800e-03   \n",
       "252   2.12620  0.184130 -6.983720 -0.185141  ...  0.000012  3.769640e-03   \n",
       "\n",
       "            Var778    Var779    Var780    Var781    Var782    Var783  \\\n",
       "1058  5.066390e-06  0.000534  0.001099 -0.000195 -0.000355  0.000101   \n",
       "1542 -9.655950e-06  0.000398 -0.000421 -0.000121  0.000028 -0.000277   \n",
       "875   8.329150e-04  0.006711 -0.001049  0.000818 -0.000837 -0.000155   \n",
       "1116  7.537600e-04  0.003807  0.002585 -0.001644 -0.001221  0.010880   \n",
       "685   3.666160e-03 -0.046319 -0.020786  0.005583 -0.075433  0.004156   \n",
       "373  -9.495020e-05 -0.018996 -0.456944 -0.010083 -0.053551  0.004926   \n",
       "1072 -9.799000e-05  0.000202 -0.006952 -0.001572  0.003165 -0.000570   \n",
       "633   3.576280e-07  0.008831  0.379918  0.002915 -0.000821 -0.000404   \n",
       "281   4.429820e-04  0.050108  0.230181  0.002792  0.005184  0.001579   \n",
       "252  -2.622600e-05 -0.007446  0.425755 -0.008826 -0.043932 -0.005233   \n",
       "\n",
       "        Var784    Var785  \n",
       "1058 -0.000132  0.005909  \n",
       "1542  0.000914 -0.000268  \n",
       "875   0.003710 -0.004566  \n",
       "1116  0.004541  0.006479  \n",
       "685  -0.006961  0.004643  \n",
       "373  -0.370373 -0.002935  \n",
       "1072  0.002057  0.001905  \n",
       "633   0.341014  0.000369  \n",
       "281   0.199316  0.038065  \n",
       "252   0.444054 -0.000835  \n",
       "\n",
       "[10 rows x 785 columns]"
      ]
     },
     "execution_count": 6,
     "metadata": {},
     "output_type": "execute_result"
    }
   ],
   "source": [
    "data.sample(10)"
   ]
  },
  {
   "cell_type": "code",
   "execution_count": 7,
   "id": "182324e8",
   "metadata": {},
   "outputs": [
    {
     "name": "stdout",
     "output_type": "stream",
     "text": [
      "<class 'pandas.core.frame.DataFrame'>\n",
      "RangeIndex: 1543 entries, 0 to 1542\n",
      "Columns: 785 entries, Var1 to Var785\n",
      "dtypes: float64(784), object(1)\n",
      "memory usage: 9.2+ MB\n"
     ]
    }
   ],
   "source": [
    "data.info()"
   ]
  },
  {
   "cell_type": "code",
   "execution_count": 8,
   "id": "a6e4d983",
   "metadata": {},
   "outputs": [
    {
     "data": {
      "text/plain": [
       "Noncontact           0.543746\n",
       "Intentional_Link5    0.145820\n",
       "Intentional_Link6    0.141283\n",
       "Collision_Link6      0.085548\n",
       "Collision_Link5      0.083603\n",
       "Name: Var1, dtype: float64"
      ]
     },
     "execution_count": 8,
     "metadata": {},
     "output_type": "execute_result"
    }
   ],
   "source": [
    "data['Var1'].value_counts()/len(data)"
   ]
  },
  {
   "cell_type": "code",
   "execution_count": 9,
   "id": "e376b35b",
   "metadata": {},
   "outputs": [
    {
     "data": {
      "text/plain": [
       "<Axes: title={'center': 'Distribution of classes'}, ylabel='Var1'>"
      ]
     },
     "execution_count": 9,
     "metadata": {},
     "output_type": "execute_result"
    },
    {
     "data": {
      "image/png": "[encoded data removed]",
      "text/plain": [
       "<Figure size 640x480 with 1 Axes>"
      ]
     },
     "metadata": {},
     "output_type": "display_data"
    }
   ],
   "source": [
    "plt.figure(1)\n",
    "plt.title('Distribution of classes')\n",
    "data['Var1'].value_counts().plot.pie()"
   ]
  },
  {
   "cell_type": "code",
   "execution_count": 10,
   "id": "e49d1d2b",
   "metadata": {},
   "outputs": [],
   "source": [
    "length=len(data.axes[1])"
   ]
  },
  {
   "cell_type": "code",
   "execution_count": 41,
   "id": "149e32f4",
   "metadata": {},
   "outputs": [
    {
     "name": "stdout",
     "output_type": "stream",
     "text": [
      "Null values are not present in the dataset\n"
     ]
    }
   ],
   "source": [
    "count=0\n",
    "for i in range(length):\n",
    "    s=data.isnull().sum().get(i)\n",
    "    if(s!=0):\n",
    "        print(i)\n",
    "        count=count+1\n",
    "if(count==0):\n",
    "    print(\"Null values are not present in the dataset\")\n",
    "else:\n",
    "    print(f\"{count} null values are present in the dataset\")"
   ]
  },
  {
   "cell_type": "code",
   "execution_count": 12,
   "id": "c649d059",
   "metadata": {},
   "outputs": [
    {
     "data": {
      "text/html": [
       "<div>\n",
       "<style scoped>\n",
       "    .dataframe tbody tr th:only-of-type {\n",
       "        vertical-align: middle;\n",
       "    }\n",
       "\n",
       "    .dataframe tbody tr th {\n",
       "        vertical-align: top;\n",
       "    }\n",
       "\n",
       "    .dataframe thead th {\n",
       "        text-align: right;\n",
       "    }\n",
       "</style>\n",
       "<table border=\"1\" class=\"dataframe\">\n",
       "  <thead>\n",
       "    <tr style=\"text-align: right;\">\n",
       "      <th></th>\n",
       "      <th>Var2</th>\n",
       "      <th>Var3</th>\n",
       "      <th>Var4</th>\n",
       "      <th>Var5</th>\n",
       "      <th>Var6</th>\n",
       "      <th>Var7</th>\n",
       "      <th>Var8</th>\n",
       "      <th>Var9</th>\n",
       "      <th>Var10</th>\n",
       "      <th>Var11</th>\n",
       "      <th>...</th>\n",
       "      <th>Var776</th>\n",
       "      <th>Var777</th>\n",
       "      <th>Var778</th>\n",
       "      <th>Var779</th>\n",
       "      <th>Var780</th>\n",
       "      <th>Var781</th>\n",
       "      <th>Var782</th>\n",
       "      <th>Var783</th>\n",
       "      <th>Var784</th>\n",
       "      <th>Var785</th>\n",
       "    </tr>\n",
       "  </thead>\n",
       "  <tbody>\n",
       "    <tr>\n",
       "      <th>count</th>\n",
       "      <td>1543.000000</td>\n",
       "      <td>1543.000000</td>\n",
       "      <td>1543.000000</td>\n",
       "      <td>1543.000000</td>\n",
       "      <td>1543.000000</td>\n",
       "      <td>1543.000000</td>\n",
       "      <td>1543.000000</td>\n",
       "      <td>1543.000000</td>\n",
       "      <td>1543.000000</td>\n",
       "      <td>1543.000000</td>\n",
       "      <td>...</td>\n",
       "      <td>1543.000000</td>\n",
       "      <td>1543.000000</td>\n",
       "      <td>1543.000000</td>\n",
       "      <td>1543.000000</td>\n",
       "      <td>1543.000000</td>\n",
       "      <td>1543.000000</td>\n",
       "      <td>1543.000000</td>\n",
       "      <td>1543.000000</td>\n",
       "      <td>1543.000000</td>\n",
       "      <td>1543.000000</td>\n",
       "    </tr>\n",
       "    <tr>\n",
       "      <th>mean</th>\n",
       "      <td>-0.588014</td>\n",
       "      <td>-14.559518</td>\n",
       "      <td>-0.702089</td>\n",
       "      <td>18.100982</td>\n",
       "      <td>0.406691</td>\n",
       "      <td>2.374222</td>\n",
       "      <td>0.070890</td>\n",
       "      <td>-0.531252</td>\n",
       "      <td>-0.064745</td>\n",
       "      <td>-0.504229</td>\n",
       "      <td>...</td>\n",
       "      <td>-0.000067</td>\n",
       "      <td>0.000116</td>\n",
       "      <td>0.000356</td>\n",
       "      <td>0.026101</td>\n",
       "      <td>0.006104</td>\n",
       "      <td>0.002085</td>\n",
       "      <td>-0.000712</td>\n",
       "      <td>0.000726</td>\n",
       "      <td>0.005630</td>\n",
       "      <td>0.023975</td>\n",
       "    </tr>\n",
       "    <tr>\n",
       "      <th>std</th>\n",
       "      <td>1.473687</td>\n",
       "      <td>5.720703</td>\n",
       "      <td>1.658356</td>\n",
       "      <td>3.484278</td>\n",
       "      <td>0.496687</td>\n",
       "      <td>0.349668</td>\n",
       "      <td>0.337685</td>\n",
       "      <td>1.317212</td>\n",
       "      <td>1.494911</td>\n",
       "      <td>1.458791</td>\n",
       "      <td>...</td>\n",
       "      <td>0.000234</td>\n",
       "      <td>0.001793</td>\n",
       "      <td>0.001478</td>\n",
       "      <td>0.119024</td>\n",
       "      <td>0.188105</td>\n",
       "      <td>0.010797</td>\n",
       "      <td>0.029532</td>\n",
       "      <td>0.006582</td>\n",
       "      <td>0.173662</td>\n",
       "      <td>0.110203</td>\n",
       "    </tr>\n",
       "    <tr>\n",
       "      <th>min</th>\n",
       "      <td>-8.933600</td>\n",
       "      <td>-28.462500</td>\n",
       "      <td>-8.977140</td>\n",
       "      <td>7.593640</td>\n",
       "      <td>-2.568880</td>\n",
       "      <td>0.108383</td>\n",
       "      <td>-0.557448</td>\n",
       "      <td>-8.486490</td>\n",
       "      <td>-7.759960</td>\n",
       "      <td>-8.429440</td>\n",
       "      <td>...</td>\n",
       "      <td>-0.001671</td>\n",
       "      <td>-0.008088</td>\n",
       "      <td>-0.006182</td>\n",
       "      <td>-0.511981</td>\n",
       "      <td>-0.614235</td>\n",
       "      <td>-0.094425</td>\n",
       "      <td>-0.182505</td>\n",
       "      <td>-0.030147</td>\n",
       "      <td>-0.621818</td>\n",
       "      <td>-0.482474</td>\n",
       "    </tr>\n",
       "    <tr>\n",
       "      <th>25%</th>\n",
       "      <td>-0.459477</td>\n",
       "      <td>-19.682900</td>\n",
       "      <td>-0.618069</td>\n",
       "      <td>15.512300</td>\n",
       "      <td>0.210659</td>\n",
       "      <td>2.220500</td>\n",
       "      <td>-0.182081</td>\n",
       "      <td>-0.332871</td>\n",
       "      <td>-0.302403</td>\n",
       "      <td>-0.251405</td>\n",
       "      <td>...</td>\n",
       "      <td>-0.000254</td>\n",
       "      <td>-0.000534</td>\n",
       "      <td>-0.000102</td>\n",
       "      <td>-0.002933</td>\n",
       "      <td>-0.004555</td>\n",
       "      <td>-0.001481</td>\n",
       "      <td>-0.004501</td>\n",
       "      <td>-0.002410</td>\n",
       "      <td>-0.004352</td>\n",
       "      <td>-0.003428</td>\n",
       "    </tr>\n",
       "    <tr>\n",
       "      <th>50%</th>\n",
       "      <td>-0.153996</td>\n",
       "      <td>-13.716100</td>\n",
       "      <td>-0.193569</td>\n",
       "      <td>19.078900</td>\n",
       "      <td>0.305874</td>\n",
       "      <td>2.314800</td>\n",
       "      <td>0.112718</td>\n",
       "      <td>-0.146199</td>\n",
       "      <td>0.105308</td>\n",
       "      <td>-0.115030</td>\n",
       "      <td>...</td>\n",
       "      <td>-0.000027</td>\n",
       "      <td>-0.000007</td>\n",
       "      <td>0.000019</td>\n",
       "      <td>0.000295</td>\n",
       "      <td>0.000580</td>\n",
       "      <td>0.000475</td>\n",
       "      <td>-0.000093</td>\n",
       "      <td>-0.000082</td>\n",
       "      <td>0.000316</td>\n",
       "      <td>-0.000275</td>\n",
       "    </tr>\n",
       "    <tr>\n",
       "      <th>75%</th>\n",
       "      <td>0.032466</td>\n",
       "      <td>-10.210950</td>\n",
       "      <td>0.072239</td>\n",
       "      <td>20.538900</td>\n",
       "      <td>0.619900</td>\n",
       "      <td>2.523540</td>\n",
       "      <td>0.391954</td>\n",
       "      <td>-0.014101</td>\n",
       "      <td>0.319299</td>\n",
       "      <td>0.071525</td>\n",
       "      <td>...</td>\n",
       "      <td>0.000091</td>\n",
       "      <td>0.000808</td>\n",
       "      <td>0.000773</td>\n",
       "      <td>0.003870</td>\n",
       "      <td>0.006671</td>\n",
       "      <td>0.003241</td>\n",
       "      <td>0.003506</td>\n",
       "      <td>0.002346</td>\n",
       "      <td>0.006233</td>\n",
       "      <td>0.003667</td>\n",
       "    </tr>\n",
       "    <tr>\n",
       "      <th>max</th>\n",
       "      <td>1.206780</td>\n",
       "      <td>-0.362209</td>\n",
       "      <td>1.682960</td>\n",
       "      <td>31.385500</td>\n",
       "      <td>3.608180</td>\n",
       "      <td>5.043080</td>\n",
       "      <td>0.661119</td>\n",
       "      <td>0.955550</td>\n",
       "      <td>6.755930</td>\n",
       "      <td>1.526180</td>\n",
       "      <td>...</td>\n",
       "      <td>0.000696</td>\n",
       "      <td>0.008696</td>\n",
       "      <td>0.007742</td>\n",
       "      <td>0.529089</td>\n",
       "      <td>0.596661</td>\n",
       "      <td>0.102435</td>\n",
       "      <td>0.146417</td>\n",
       "      <td>0.045398</td>\n",
       "      <td>0.564136</td>\n",
       "      <td>0.526618</td>\n",
       "    </tr>\n",
       "  </tbody>\n",
       "</table>\n",
       "<p>8 rows × 784 columns</p>\n",
       "</div>"
      ],
      "text/plain": [
       "              Var2         Var3         Var4         Var5         Var6  \\\n",
       "count  1543.000000  1543.000000  1543.000000  1543.000000  1543.000000   \n",
       "mean     -0.588014   -14.559518    -0.702089    18.100982     0.406691   \n",
       "std       1.473687     5.720703     1.658356     3.484278     0.496687   \n",
       "min      -8.933600   -28.462500    -8.977140     7.593640    -2.568880   \n",
       "25%      -0.459477   -19.682900    -0.618069    15.512300     0.210659   \n",
       "50%      -0.153996   -13.716100    -0.193569    19.078900     0.305874   \n",
       "75%       0.032466   -10.210950     0.072239    20.538900     0.619900   \n",
       "max       1.206780    -0.362209     1.682960    31.385500     3.608180   \n",
       "\n",
       "              Var7         Var8         Var9        Var10        Var11  ...  \\\n",
       "count  1543.000000  1543.000000  1543.000000  1543.000000  1543.000000  ...   \n",
       "mean      2.374222     0.070890    -0.531252    -0.064745    -0.504229  ...   \n",
       "std       0.349668     0.337685     1.317212     1.494911     1.458791  ...   \n",
       "min       0.108383    -0.557448    -8.486490    -7.759960    -8.429440  ...   \n",
       "25%       2.220500    -0.182081    -0.332871    -0.302403    -0.251405  ...   \n",
       "50%       2.314800     0.112718    -0.146199     0.105308    -0.115030  ...   \n",
       "75%       2.523540     0.391954    -0.014101     0.319299     0.071525  ...   \n",
       "max       5.043080     0.661119     0.955550     6.755930     1.526180  ...   \n",
       "\n",
       "            Var776       Var777       Var778       Var779       Var780  \\\n",
       "count  1543.000000  1543.000000  1543.000000  1543.000000  1543.000000   \n",
       "mean     -0.000067     0.000116     0.000356     0.026101     0.006104   \n",
       "std       0.000234     0.001793     0.001478     0.119024     0.188105   \n",
       "min      -0.001671    -0.008088    -0.006182    -0.511981    -0.614235   \n",
       "25%      -0.000254    -0.000534    -0.000102    -0.002933    -0.004555   \n",
       "50%      -0.000027    -0.000007     0.000019     0.000295     0.000580   \n",
       "75%       0.000091     0.000808     0.000773     0.003870     0.006671   \n",
       "max       0.000696     0.008696     0.007742     0.529089     0.596661   \n",
       "\n",
       "            Var781       Var782       Var783       Var784       Var785  \n",
       "count  1543.000000  1543.000000  1543.000000  1543.000000  1543.000000  \n",
       "mean      0.002085    -0.000712     0.000726     0.005630     0.023975  \n",
       "std       0.010797     0.029532     0.006582     0.173662     0.110203  \n",
       "min      -0.094425    -0.182505    -0.030147    -0.621818    -0.482474  \n",
       "25%      -0.001481    -0.004501    -0.002410    -0.004352    -0.003428  \n",
       "50%       0.000475    -0.000093    -0.000082     0.000316    -0.000275  \n",
       "75%       0.003241     0.003506     0.002346     0.006233     0.003667  \n",
       "max       0.102435     0.146417     0.045398     0.564136     0.526618  \n",
       "\n",
       "[8 rows x 784 columns]"
      ]
     },
     "execution_count": 12,
     "metadata": {},
     "output_type": "execute_result"
    }
   ],
   "source": [
    "data.describe()"
   ]
  },
  {
   "cell_type": "code",
   "execution_count": 13,
   "id": "e5680aa5",
   "metadata": {},
   "outputs": [
    {
     "data": {
      "text/html": [
       "<div>\n",
       "<style scoped>\n",
       "    .dataframe tbody tr th:only-of-type {\n",
       "        vertical-align: middle;\n",
       "    }\n",
       "\n",
       "    .dataframe tbody tr th {\n",
       "        vertical-align: top;\n",
       "    }\n",
       "\n",
       "    .dataframe thead th {\n",
       "        text-align: right;\n",
       "    }\n",
       "</style>\n",
       "<table border=\"1\" class=\"dataframe\">\n",
       "  <thead>\n",
       "    <tr style=\"text-align: right;\">\n",
       "      <th></th>\n",
       "      <th>Var2</th>\n",
       "      <th>Var3</th>\n",
       "      <th>Var4</th>\n",
       "      <th>Var5</th>\n",
       "      <th>Var6</th>\n",
       "      <th>Var7</th>\n",
       "      <th>Var8</th>\n",
       "      <th>Var9</th>\n",
       "      <th>Var10</th>\n",
       "      <th>Var11</th>\n",
       "      <th>...</th>\n",
       "      <th>Var776</th>\n",
       "      <th>Var777</th>\n",
       "      <th>Var778</th>\n",
       "      <th>Var779</th>\n",
       "      <th>Var780</th>\n",
       "      <th>Var781</th>\n",
       "      <th>Var782</th>\n",
       "      <th>Var783</th>\n",
       "      <th>Var784</th>\n",
       "      <th>Var785</th>\n",
       "    </tr>\n",
       "  </thead>\n",
       "  <tbody>\n",
       "    <tr>\n",
       "      <th>469</th>\n",
       "      <td>0.147518</td>\n",
       "      <td>-20.7699</td>\n",
       "      <td>0.302341</td>\n",
       "      <td>16.2265</td>\n",
       "      <td>0.248196</td>\n",
       "      <td>2.64897</td>\n",
       "      <td>-0.019118</td>\n",
       "      <td>0.024718</td>\n",
       "      <td>-0.857463</td>\n",
       "      <td>0.144216</td>\n",
       "      <td>...</td>\n",
       "      <td>-0.000105</td>\n",
       "      <td>-0.000442</td>\n",
       "      <td>-0.000320</td>\n",
       "      <td>0.004236</td>\n",
       "      <td>-0.008826</td>\n",
       "      <td>0.005599</td>\n",
       "      <td>0.013394</td>\n",
       "      <td>0.003117</td>\n",
       "      <td>0.012210</td>\n",
       "      <td>0.006362</td>\n",
       "    </tr>\n",
       "    <tr>\n",
       "      <th>1215</th>\n",
       "      <td>-0.042912</td>\n",
       "      <td>-20.3216</td>\n",
       "      <td>-0.042812</td>\n",
       "      <td>15.0601</td>\n",
       "      <td>0.001003</td>\n",
       "      <td>2.69109</td>\n",
       "      <td>0.173143</td>\n",
       "      <td>-0.002786</td>\n",
       "      <td>0.165982</td>\n",
       "      <td>0.035748</td>\n",
       "      <td>...</td>\n",
       "      <td>-0.000291</td>\n",
       "      <td>0.001098</td>\n",
       "      <td>0.000363</td>\n",
       "      <td>0.002424</td>\n",
       "      <td>-0.013876</td>\n",
       "      <td>0.001220</td>\n",
       "      <td>-0.000971</td>\n",
       "      <td>0.003448</td>\n",
       "      <td>-0.006249</td>\n",
       "      <td>-0.001679</td>\n",
       "    </tr>\n",
       "    <tr>\n",
       "      <th>78</th>\n",
       "      <td>-0.233342</td>\n",
       "      <td>-25.5703</td>\n",
       "      <td>-0.042812</td>\n",
       "      <td>13.6001</td>\n",
       "      <td>-0.275486</td>\n",
       "      <td>2.40819</td>\n",
       "      <td>0.082506</td>\n",
       "      <td>-0.101467</td>\n",
       "      <td>-2.822050</td>\n",
       "      <td>0.000726</td>\n",
       "      <td>...</td>\n",
       "      <td>-0.000034</td>\n",
       "      <td>0.003041</td>\n",
       "      <td>0.000055</td>\n",
       "      <td>0.002161</td>\n",
       "      <td>0.561667</td>\n",
       "      <td>0.000368</td>\n",
       "      <td>0.047910</td>\n",
       "      <td>-0.009733</td>\n",
       "      <td>0.503292</td>\n",
       "      <td>0.010216</td>\n",
       "    </tr>\n",
       "    <tr>\n",
       "      <th>908</th>\n",
       "      <td>-0.419804</td>\n",
       "      <td>-17.5445</td>\n",
       "      <td>-0.387966</td>\n",
       "      <td>16.7898</td>\n",
       "      <td>0.305874</td>\n",
       "      <td>2.10515</td>\n",
       "      <td>-0.070387</td>\n",
       "      <td>-0.380820</td>\n",
       "      <td>-0.207879</td>\n",
       "      <td>-0.240231</td>\n",
       "      <td>...</td>\n",
       "      <td>-0.000029</td>\n",
       "      <td>-0.000671</td>\n",
       "      <td>-0.000100</td>\n",
       "      <td>-0.000952</td>\n",
       "      <td>0.001436</td>\n",
       "      <td>0.002298</td>\n",
       "      <td>-0.002807</td>\n",
       "      <td>0.000644</td>\n",
       "      <td>0.001416</td>\n",
       "      <td>0.006308</td>\n",
       "    </tr>\n",
       "    <tr>\n",
       "      <th>1259</th>\n",
       "      <td>-0.269047</td>\n",
       "      <td>-21.5594</td>\n",
       "      <td>-0.308620</td>\n",
       "      <td>15.4727</td>\n",
       "      <td>0.134670</td>\n",
       "      <td>2.24156</td>\n",
       "      <td>0.274767</td>\n",
       "      <td>-0.387304</td>\n",
       "      <td>-0.216233</td>\n",
       "      <td>-0.269712</td>\n",
       "      <td>...</td>\n",
       "      <td>-0.000139</td>\n",
       "      <td>-0.001134</td>\n",
       "      <td>0.000136</td>\n",
       "      <td>-0.002903</td>\n",
       "      <td>0.007985</td>\n",
       "      <td>-0.001073</td>\n",
       "      <td>-0.002169</td>\n",
       "      <td>-0.001984</td>\n",
       "      <td>0.005913</td>\n",
       "      <td>-0.002469</td>\n",
       "    </tr>\n",
       "  </tbody>\n",
       "</table>\n",
       "<p>5 rows × 784 columns</p>\n",
       "</div>"
      ],
      "text/plain": [
       "          Var2     Var3      Var4     Var5      Var6     Var7      Var8  \\\n",
       "469   0.147518 -20.7699  0.302341  16.2265  0.248196  2.64897 -0.019118   \n",
       "1215 -0.042912 -20.3216 -0.042812  15.0601  0.001003  2.69109  0.173143   \n",
       "78   -0.233342 -25.5703 -0.042812  13.6001 -0.275486  2.40819  0.082506   \n",
       "908  -0.419804 -17.5445 -0.387966  16.7898  0.305874  2.10515 -0.070387   \n",
       "1259 -0.269047 -21.5594 -0.308620  15.4727  0.134670  2.24156  0.274767   \n",
       "\n",
       "          Var9     Var10     Var11  ...    Var776    Var777    Var778  \\\n",
       "469   0.024718 -0.857463  0.144216  ... -0.000105 -0.000442 -0.000320   \n",
       "1215 -0.002786  0.165982  0.035748  ... -0.000291  0.001098  0.000363   \n",
       "78   -0.101467 -2.822050  0.000726  ... -0.000034  0.003041  0.000055   \n",
       "908  -0.380820 -0.207879 -0.240231  ... -0.000029 -0.000671 -0.000100   \n",
       "1259 -0.387304 -0.216233 -0.269712  ... -0.000139 -0.001134  0.000136   \n",
       "\n",
       "        Var779    Var780    Var781    Var782    Var783    Var784    Var785  \n",
       "469   0.004236 -0.008826  0.005599  0.013394  0.003117  0.012210  0.006362  \n",
       "1215  0.002424 -0.013876  0.001220 -0.000971  0.003448 -0.006249 -0.001679  \n",
       "78    0.002161  0.561667  0.000368  0.047910 -0.009733  0.503292  0.010216  \n",
       "908  -0.000952  0.001436  0.002298 -0.002807  0.000644  0.001416  0.006308  \n",
       "1259 -0.002903  0.007985 -0.001073 -0.002169 -0.001984  0.005913 -0.002469  \n",
       "\n",
       "[5 rows x 784 columns]"
      ]
     },
     "execution_count": 13,
     "metadata": {},
     "output_type": "execute_result"
    }
   ],
   "source": [
    "data_=data.drop('Var1',axis=1)\n",
    "data_.sample(5)"
   ]
  },
  {
   "cell_type": "code",
   "execution_count": 14,
   "id": "993210d9",
   "metadata": {},
   "outputs": [
    {
     "data": {
      "text/plain": [
       "1091           Noncontact\n",
       "1225           Noncontact\n",
       "793            Noncontact\n",
       "622     Intentional_Link6\n",
       "104     Intentional_Link5\n",
       "Name: Var1, dtype: object"
      ]
     },
     "execution_count": 14,
     "metadata": {},
     "output_type": "execute_result"
    }
   ],
   "source": [
    "labels=data['Var1'].copy()\n",
    "labels.sample(5)"
   ]
  },
  {
   "cell_type": "code",
   "execution_count": 15,
   "id": "08726e31",
   "metadata": {},
   "outputs": [
    {
     "data": {
      "text/plain": [
       "Noncontact           0.547904\n",
       "Intentional_Link6    0.146707\n",
       "Intentional_Link5    0.137725\n",
       "Collision_Link6      0.084830\n",
       "Collision_Link5      0.082834\n",
       "Name: Var1, dtype: float64"
      ]
     },
     "execution_count": 15,
     "metadata": {},
     "output_type": "execute_result"
    }
   ],
   "source": [
    "from sklearn.model_selection import train_test_split\n",
    "X_train,X_test,y_train,y_test= train_test_split(data_ ,labels ,test_size=.35 ,random_state=101)\n",
    "y_train.value_counts()/len(y_train)"
   ]
  },
  {
   "cell_type": "code",
   "execution_count": 16,
   "id": "8210f7b0",
   "metadata": {},
   "outputs": [
    {
     "data": {
      "text/plain": [
       "<Axes: ylabel='Var1'>"
      ]
     },
     "execution_count": 16,
     "metadata": {},
     "output_type": "execute_result"
    },
    {
     "data": {
      "image/png": "[encoded data removed]",
      "text/plain": [
       "<Figure size 640x480 with 1 Axes>"
      ]
     },
     "metadata": {},
     "output_type": "display_data"
    }
   ],
   "source": [
    "y_train.value_counts().plot.pie()"
   ]
  },
  {
   "cell_type": "code",
   "execution_count": 17,
   "id": "6c829ed0",
   "metadata": {},
   "outputs": [
    {
     "data": {
      "text/plain": [
       "Noncontact           0.536044\n",
       "Intentional_Link5    0.160813\n",
       "Intentional_Link6    0.131238\n",
       "Collision_Link6      0.086876\n",
       "Collision_Link5      0.085028\n",
       "Name: Var1, dtype: float64"
      ]
     },
     "execution_count": 17,
     "metadata": {},
     "output_type": "execute_result"
    }
   ],
   "source": [
    "y_test.value_counts()/len(y_test)"
   ]
  },
  {
   "cell_type": "code",
   "execution_count": 18,
   "id": "4b649253",
   "metadata": {},
   "outputs": [],
   "source": [
    "from sklearn.preprocessing import StandardScaler\n",
    "scalar=StandardScaler()\n",
    "X_train=scalar.fit_transform(X_train)\n",
    "X_test=scalar.transform(X_test)"
   ]
  },
  {
   "cell_type": "code",
   "execution_count": 19,
   "id": "82b10d24",
   "metadata": {},
   "outputs": [
    {
     "data": {
      "text/html": [
       "<style>#sk-container-id-1 {color: black;background-color: white;}#sk-container-id-1 pre{padding: 0;}#sk-container-id-1 div.sk-toggleable {background-color: white;}#sk-container-id-1 label.sk-toggleable__label {cursor: pointer;display: block;width: 100%;margin-bottom: 0;padding: 0.3em;box-sizing: border-box;text-align: center;}#sk-container-id-1 label.sk-toggleable__label-arrow:before {content: \"▸\";float: left;margin-right: 0.25em;color: #696969;}#sk-container-id-1 label.sk-toggleable__label-arrow:hover:before {color: black;}#sk-container-id-1 div.sk-estimator:hover label.sk-toggleable__label-arrow:before {color: black;}#sk-container-id-1 div.sk-toggleable__content {max-height: 0;max-width: 0;overflow: hidden;text-align: left;background-color: #f0f8ff;}#sk-container-id-1 div.sk-toggleable__content pre {margin: 0.2em;color: black;border-radius: 0.25em;background-color: #f0f8ff;}#sk-container-id-1 input.sk-toggleable__control:checked~div.sk-toggleable__content {max-height: 200px;max-width: 100%;overflow: auto;}#sk-container-id-1 input.sk-toggleable__control:checked~label.sk-toggleable__label-arrow:before {content: \"▾\";}#sk-container-id-1 div.sk-estimator input.sk-toggleable__control:checked~label.sk-toggleable__label {background-color: #d4ebff;}#sk-container-id-1 div.sk-label input.sk-toggleable__control:checked~label.sk-toggleable__label {background-color: #d4ebff;}#sk-container-id-1 input.sk-hidden--visually {border: 0;clip: rect(1px 1px 1px 1px);clip: rect(1px, 1px, 1px, 1px);height: 1px;margin: -1px;overflow: hidden;padding: 0;position: absolute;width: 1px;}#sk-container-id-1 div.sk-estimator {font-family: monospace;background-color: #f0f8ff;border: 1px dotted black;border-radius: 0.25em;box-sizing: border-box;margin-bottom: 0.5em;}#sk-container-id-1 div.sk-estimator:hover {background-color: #d4ebff;}#sk-container-id-1 div.sk-parallel-item::after {content: \"\";width: 100%;border-bottom: 1px solid gray;flex-grow: 1;}#sk-container-id-1 div.sk-label:hover label.sk-toggleable__label {background-color: #d4ebff;}#sk-container-id-1 div.sk-serial::before {content: \"\";position: absolute;border-left: 1px solid gray;box-sizing: border-box;top: 0;bottom: 0;left: 50%;z-index: 0;}#sk-container-id-1 div.sk-serial {display: flex;flex-direction: column;align-items: center;background-color: white;padding-right: 0.2em;padding-left: 0.2em;position: relative;}#sk-container-id-1 div.sk-item {position: relative;z-index: 1;}#sk-container-id-1 div.sk-parallel {display: flex;align-items: stretch;justify-content: center;background-color: white;position: relative;}#sk-container-id-1 div.sk-item::before, #sk-container-id-1 div.sk-parallel-item::before {content: \"\";position: absolute;border-left: 1px solid gray;box-sizing: border-box;top: 0;bottom: 0;left: 50%;z-index: -1;}#sk-container-id-1 div.sk-parallel-item {display: flex;flex-direction: column;z-index: 1;position: relative;background-color: white;}#sk-container-id-1 div.sk-parallel-item:first-child::after {align-self: flex-end;width: 50%;}#sk-container-id-1 div.sk-parallel-item:last-child::after {align-self: flex-start;width: 50%;}#sk-container-id-1 div.sk-parallel-item:only-child::after {width: 0;}#sk-container-id-1 div.sk-dashed-wrapped {border: 1px dashed gray;margin: 0 0.4em 0.5em 0.4em;box-sizing: border-box;padding-bottom: 0.4em;background-color: white;}#sk-container-id-1 div.sk-label label {font-family: monospace;font-weight: bold;display: inline-block;line-height: 1.2em;}#sk-container-id-1 div.sk-label-container {text-align: center;}#sk-container-id-1 div.sk-container {/* jupyter's `normalize.less` sets `[hidden] { display: none; }` but bootstrap.min.css set `[hidden] { display: none !important; }` so we also need the `!important` here to be able to override the default hidden behavior on the sphinx rendered scikit-learn.org. See: https://github.com/scikit-learn/scikit-learn/issues/21755 */display: inline-block !important;position: relative;}#sk-container-id-1 div.sk-text-repr-fallback {display: none;}</style><div id=\"sk-container-id-1\" class=\"sk-top-container\"><div class=\"sk-text-repr-fallback\"><pre>RandomForestClassifier(max_depth=2, random_state=0)</pre><b>In a Jupyter environment, please rerun this cell to show the HTML representation or trust the notebook. <br />On GitHub, the HTML representation is unable to render, please try loading this page with nbviewer.org.</b></div><div class=\"sk-container\" hidden><div class=\"sk-item\"><div class=\"sk-estimator sk-toggleable\"><input class=\"sk-toggleable__control sk-hidden--visually\" id=\"sk-estimator-id-1\" type=\"checkbox\" checked><label for=\"sk-estimator-id-1\" class=\"sk-toggleable__label sk-toggleable__label-arrow\">RandomForestClassifier</label><div class=\"sk-toggleable__content\"><pre>RandomForestClassifier(max_depth=2, random_state=0)</pre></div></div></div></div></div>"
      ],
      "text/plain": [
       "RandomForestClassifier(max_depth=2, random_state=0)"
      ]
     },
     "execution_count": 19,
     "metadata": {},
     "output_type": "execute_result"
    }
   ],
   "source": [
    "from sklearn.ensemble import RandomForestClassifier\n",
    "model_RF = RandomForestClassifier(max_depth=2, random_state=0)\n",
    "model_RF.fit(X_train, y_train)\n"
   ]
  },
  {
   "cell_type": "code",
   "execution_count": 20,
   "id": "e1cf540f",
   "metadata": {},
   "outputs": [
    {
     "name": "stdout",
     "output_type": "stream",
     "text": [
      "Accuracy of training dataset is 0.7275449101796407\n",
      "Accuracy of the random forest model on test dataset is 69.87%\n"
     ]
    }
   ],
   "source": [
    "pred_RF_train=model_RF.predict(X_train)\n",
    "pred_RF_test=model_RF.predict(X_test)\n",
    "train_score=model_RF.score(X_train,y_train)\n",
    "test_score=model_RF.score(X_test,y_test)\n",
    "print(\"Accuracy of training dataset is \"+str(train_score))\n",
    "print(\"Accuracy of the random forest model on test dataset is \"+str(round(test_score*100,2))+\"%\")"
   ]
  },
  {
   "cell_type": "code",
   "execution_count": 21,
   "id": "16eff4b6",
   "metadata": {},
   "outputs": [
    {
     "name": "stdout",
     "output_type": "stream",
     "text": [
      "                   precision    recall  f1-score   support\n",
      "\n",
      "  Collision_Link5       0.00      0.00      0.00        83\n",
      "  Collision_Link6       0.00      0.00      0.00        85\n",
      "Intentional_Link5       0.52      0.60      0.56       138\n",
      "Intentional_Link6       0.49      0.66      0.56       147\n",
      "       Noncontact       0.85      1.00      0.92       549\n",
      "\n",
      "         accuracy                           0.73      1002\n",
      "        macro avg       0.37      0.45      0.41      1002\n",
      "     weighted avg       0.61      0.73      0.66      1002\n",
      "\n"
     ]
    },
    {
     "name": "stderr",
     "output_type": "stream",
     "text": [
      "C:\\Users\\91859\\anaconda3\\lib\\site-packages\\sklearn\\metrics\\_classification.py:1344: UndefinedMetricWarning: Precision and F-score are ill-defined and being set to 0.0 in labels with no predicted samples. Use `zero_division` parameter to control this behavior.\n",
      "  _warn_prf(average, modifier, msg_start, len(result))\n",
      "C:\\Users\\91859\\anaconda3\\lib\\site-packages\\sklearn\\metrics\\_classification.py:1344: UndefinedMetricWarning: Precision and F-score are ill-defined and being set to 0.0 in labels with no predicted samples. Use `zero_division` parameter to control this behavior.\n",
      "  _warn_prf(average, modifier, msg_start, len(result))\n",
      "C:\\Users\\91859\\anaconda3\\lib\\site-packages\\sklearn\\metrics\\_classification.py:1344: UndefinedMetricWarning: Precision and F-score are ill-defined and being set to 0.0 in labels with no predicted samples. Use `zero_division` parameter to control this behavior.\n",
      "  _warn_prf(average, modifier, msg_start, len(result))\n"
     ]
    }
   ],
   "source": [
    "from sklearn.metrics import classification_report\n",
    "print(classification_report(y_train,pred_RF_train))"
   ]
  },
  {
   "cell_type": "code",
   "execution_count": 22,
   "id": "c4518246",
   "metadata": {},
   "outputs": [
    {
     "name": "stdout",
     "output_type": "stream",
     "text": [
      "                   precision    recall  f1-score   support\n",
      "\n",
      "  Collision_Link5       0.00      0.00      0.00        46\n",
      "  Collision_Link6       0.00      0.00      0.00        47\n",
      "Intentional_Link5       0.48      0.52      0.50        87\n",
      "Intentional_Link6       0.43      0.61      0.50        71\n",
      "       Noncontact       0.84      1.00      0.91       290\n",
      "\n",
      "         accuracy                           0.70       541\n",
      "        macro avg       0.35      0.42      0.38       541\n",
      "     weighted avg       0.58      0.70      0.63       541\n",
      "\n"
     ]
    },
    {
     "name": "stderr",
     "output_type": "stream",
     "text": [
      "C:\\Users\\91859\\anaconda3\\lib\\site-packages\\sklearn\\metrics\\_classification.py:1344: UndefinedMetricWarning: Precision and F-score are ill-defined and being set to 0.0 in labels with no predicted samples. Use `zero_division` parameter to control this behavior.\n",
      "  _warn_prf(average, modifier, msg_start, len(result))\n",
      "C:\\Users\\91859\\anaconda3\\lib\\site-packages\\sklearn\\metrics\\_classification.py:1344: UndefinedMetricWarning: Precision and F-score are ill-defined and being set to 0.0 in labels with no predicted samples. Use `zero_division` parameter to control this behavior.\n",
      "  _warn_prf(average, modifier, msg_start, len(result))\n",
      "C:\\Users\\91859\\anaconda3\\lib\\site-packages\\sklearn\\metrics\\_classification.py:1344: UndefinedMetricWarning: Precision and F-score are ill-defined and being set to 0.0 in labels with no predicted samples. Use `zero_division` parameter to control this behavior.\n",
      "  _warn_prf(average, modifier, msg_start, len(result))\n"
     ]
    }
   ],
   "source": [
    "print(classification_report(y_test,pred_RF_test))"
   ]
  },
  {
   "cell_type": "code",
   "execution_count": null,
   "id": "19604649",
   "metadata": {},
   "outputs": [],
   "source": []
  },
  {
   "cell_type": "code",
   "execution_count": 23,
   "id": "400a26d4",
   "metadata": {},
   "outputs": [],
   "source": [
    "param_grid_rf = { \n",
    "    'n_estimators': [25, 50, 100, 150],  \n",
    "    'max_features': ['sqrt', 'log2', None], \n",
    "    'max_depth': [3, 6, 9], \n",
    "    'max_leaf_nodes': [3, 6, 9], \n",
    "} \n",
    "grid_search_rf= GridSearchCV(RandomForestClassifier(), param_grid_rf,verbose = 1, cv=5, n_jobs = -1) "
   ]
  },
  {
   "cell_type": "code",
   "execution_count": 24,
   "id": "eb2497ec",
   "metadata": {},
   "outputs": [
    {
     "name": "stdout",
     "output_type": "stream",
     "text": [
      "Fitting 5 folds for each of 108 candidates, totalling 540 fits\n"
     ]
    },
    {
     "ename": "KeyboardInterrupt",
     "evalue": "",
     "output_type": "error",
     "traceback": [
      "\u001b[1;31m---------------------------------------------------------------------------\u001b[0m",
      "\u001b[1;31mKeyboardInterrupt\u001b[0m                         Traceback (most recent call last)",
      "Cell \u001b[1;32mIn[24], line 1\u001b[0m\n\u001b[1;32m----> 1\u001b[0m \u001b[43mgrid_search_rf\u001b[49m\u001b[38;5;241;43m.\u001b[39;49m\u001b[43mfit\u001b[49m\u001b[43m(\u001b[49m\u001b[43mX_train\u001b[49m\u001b[43m,\u001b[49m\u001b[43my_train\u001b[49m\u001b[43m)\u001b[49m\n",
      "File \u001b[1;32m~\\anaconda3\\lib\\site-packages\\sklearn\\model_selection\\_search.py:874\u001b[0m, in \u001b[0;36mBaseSearchCV.fit\u001b[1;34m(self, X, y, groups, **fit_params)\u001b[0m\n\u001b[0;32m    868\u001b[0m     results \u001b[38;5;241m=\u001b[39m \u001b[38;5;28mself\u001b[39m\u001b[38;5;241m.\u001b[39m_format_results(\n\u001b[0;32m    869\u001b[0m         all_candidate_params, n_splits, all_out, all_more_results\n\u001b[0;32m    870\u001b[0m     )\n\u001b[0;32m    872\u001b[0m     \u001b[38;5;28;01mreturn\u001b[39;00m results\n\u001b[1;32m--> 874\u001b[0m \u001b[38;5;28;43mself\u001b[39;49m\u001b[38;5;241;43m.\u001b[39;49m\u001b[43m_run_search\u001b[49m\u001b[43m(\u001b[49m\u001b[43mevaluate_candidates\u001b[49m\u001b[43m)\u001b[49m\n\u001b[0;32m    876\u001b[0m \u001b[38;5;66;03m# multimetric is determined here because in the case of a callable\u001b[39;00m\n\u001b[0;32m    877\u001b[0m \u001b[38;5;66;03m# self.scoring the return type is only known after calling\u001b[39;00m\n\u001b[0;32m    878\u001b[0m first_test_score \u001b[38;5;241m=\u001b[39m all_out[\u001b[38;5;241m0\u001b[39m][\u001b[38;5;124m\"\u001b[39m\u001b[38;5;124mtest_scores\u001b[39m\u001b[38;5;124m\"\u001b[39m]\n",
      "File \u001b[1;32m~\\anaconda3\\lib\\site-packages\\sklearn\\model_selection\\_search.py:1388\u001b[0m, in \u001b[0;36mGridSearchCV._run_search\u001b[1;34m(self, evaluate_candidates)\u001b[0m\n\u001b[0;32m   1386\u001b[0m \u001b[38;5;28;01mdef\u001b[39;00m \u001b[38;5;21m_run_search\u001b[39m(\u001b[38;5;28mself\u001b[39m, evaluate_candidates):\n\u001b[0;32m   1387\u001b[0m     \u001b[38;5;124;03m\"\"\"Search all candidates in param_grid\"\"\"\u001b[39;00m\n\u001b[1;32m-> 1388\u001b[0m     \u001b[43mevaluate_candidates\u001b[49m\u001b[43m(\u001b[49m\u001b[43mParameterGrid\u001b[49m\u001b[43m(\u001b[49m\u001b[38;5;28;43mself\u001b[39;49m\u001b[38;5;241;43m.\u001b[39;49m\u001b[43mparam_grid\u001b[49m\u001b[43m)\u001b[49m\u001b[43m)\u001b[49m\n",
      "File \u001b[1;32m~\\anaconda3\\lib\\site-packages\\sklearn\\model_selection\\_search.py:821\u001b[0m, in \u001b[0;36mBaseSearchCV.fit.<locals>.evaluate_candidates\u001b[1;34m(candidate_params, cv, more_results)\u001b[0m\n\u001b[0;32m    813\u001b[0m \u001b[38;5;28;01mif\u001b[39;00m \u001b[38;5;28mself\u001b[39m\u001b[38;5;241m.\u001b[39mverbose \u001b[38;5;241m>\u001b[39m \u001b[38;5;241m0\u001b[39m:\n\u001b[0;32m    814\u001b[0m     \u001b[38;5;28mprint\u001b[39m(\n\u001b[0;32m    815\u001b[0m         \u001b[38;5;124m\"\u001b[39m\u001b[38;5;124mFitting \u001b[39m\u001b[38;5;132;01m{0}\u001b[39;00m\u001b[38;5;124m folds for each of \u001b[39m\u001b[38;5;132;01m{1}\u001b[39;00m\u001b[38;5;124m candidates,\u001b[39m\u001b[38;5;124m\"\u001b[39m\n\u001b[0;32m    816\u001b[0m         \u001b[38;5;124m\"\u001b[39m\u001b[38;5;124m totalling \u001b[39m\u001b[38;5;132;01m{2}\u001b[39;00m\u001b[38;5;124m fits\u001b[39m\u001b[38;5;124m\"\u001b[39m\u001b[38;5;241m.\u001b[39mformat(\n\u001b[0;32m    817\u001b[0m             n_splits, n_candidates, n_candidates \u001b[38;5;241m*\u001b[39m n_splits\n\u001b[0;32m    818\u001b[0m         )\n\u001b[0;32m    819\u001b[0m     )\n\u001b[1;32m--> 821\u001b[0m out \u001b[38;5;241m=\u001b[39m \u001b[43mparallel\u001b[49m\u001b[43m(\u001b[49m\n\u001b[0;32m    822\u001b[0m \u001b[43m    \u001b[49m\u001b[43mdelayed\u001b[49m\u001b[43m(\u001b[49m\u001b[43m_fit_and_score\u001b[49m\u001b[43m)\u001b[49m\u001b[43m(\u001b[49m\n\u001b[0;32m    823\u001b[0m \u001b[43m        \u001b[49m\u001b[43mclone\u001b[49m\u001b[43m(\u001b[49m\u001b[43mbase_estimator\u001b[49m\u001b[43m)\u001b[49m\u001b[43m,\u001b[49m\n\u001b[0;32m    824\u001b[0m \u001b[43m        \u001b[49m\u001b[43mX\u001b[49m\u001b[43m,\u001b[49m\n\u001b[0;32m    825\u001b[0m \u001b[43m        \u001b[49m\u001b[43my\u001b[49m\u001b[43m,\u001b[49m\n\u001b[0;32m    826\u001b[0m \u001b[43m        \u001b[49m\u001b[43mtrain\u001b[49m\u001b[38;5;241;43m=\u001b[39;49m\u001b[43mtrain\u001b[49m\u001b[43m,\u001b[49m\n\u001b[0;32m    827\u001b[0m \u001b[43m        \u001b[49m\u001b[43mtest\u001b[49m\u001b[38;5;241;43m=\u001b[39;49m\u001b[43mtest\u001b[49m\u001b[43m,\u001b[49m\n\u001b[0;32m    828\u001b[0m \u001b[43m        \u001b[49m\u001b[43mparameters\u001b[49m\u001b[38;5;241;43m=\u001b[39;49m\u001b[43mparameters\u001b[49m\u001b[43m,\u001b[49m\n\u001b[0;32m    829\u001b[0m \u001b[43m        \u001b[49m\u001b[43msplit_progress\u001b[49m\u001b[38;5;241;43m=\u001b[39;49m\u001b[43m(\u001b[49m\u001b[43msplit_idx\u001b[49m\u001b[43m,\u001b[49m\u001b[43m \u001b[49m\u001b[43mn_splits\u001b[49m\u001b[43m)\u001b[49m\u001b[43m,\u001b[49m\n\u001b[0;32m    830\u001b[0m \u001b[43m        \u001b[49m\u001b[43mcandidate_progress\u001b[49m\u001b[38;5;241;43m=\u001b[39;49m\u001b[43m(\u001b[49m\u001b[43mcand_idx\u001b[49m\u001b[43m,\u001b[49m\u001b[43m \u001b[49m\u001b[43mn_candidates\u001b[49m\u001b[43m)\u001b[49m\u001b[43m,\u001b[49m\n\u001b[0;32m    831\u001b[0m \u001b[43m        \u001b[49m\u001b[38;5;241;43m*\u001b[39;49m\u001b[38;5;241;43m*\u001b[39;49m\u001b[43mfit_and_score_kwargs\u001b[49m\u001b[43m,\u001b[49m\n\u001b[0;32m    832\u001b[0m \u001b[43m    \u001b[49m\u001b[43m)\u001b[49m\n\u001b[0;32m    833\u001b[0m \u001b[43m    \u001b[49m\u001b[38;5;28;43;01mfor\u001b[39;49;00m\u001b[43m \u001b[49m\u001b[43m(\u001b[49m\u001b[43mcand_idx\u001b[49m\u001b[43m,\u001b[49m\u001b[43m \u001b[49m\u001b[43mparameters\u001b[49m\u001b[43m)\u001b[49m\u001b[43m,\u001b[49m\u001b[43m \u001b[49m\u001b[43m(\u001b[49m\u001b[43msplit_idx\u001b[49m\u001b[43m,\u001b[49m\u001b[43m \u001b[49m\u001b[43m(\u001b[49m\u001b[43mtrain\u001b[49m\u001b[43m,\u001b[49m\u001b[43m \u001b[49m\u001b[43mtest\u001b[49m\u001b[43m)\u001b[49m\u001b[43m)\u001b[49m\u001b[43m \u001b[49m\u001b[38;5;129;43;01min\u001b[39;49;00m\u001b[43m \u001b[49m\u001b[43mproduct\u001b[49m\u001b[43m(\u001b[49m\n\u001b[0;32m    834\u001b[0m \u001b[43m        \u001b[49m\u001b[38;5;28;43menumerate\u001b[39;49m\u001b[43m(\u001b[49m\u001b[43mcandidate_params\u001b[49m\u001b[43m)\u001b[49m\u001b[43m,\u001b[49m\u001b[43m \u001b[49m\u001b[38;5;28;43menumerate\u001b[39;49m\u001b[43m(\u001b[49m\u001b[43mcv\u001b[49m\u001b[38;5;241;43m.\u001b[39;49m\u001b[43msplit\u001b[49m\u001b[43m(\u001b[49m\u001b[43mX\u001b[49m\u001b[43m,\u001b[49m\u001b[43m \u001b[49m\u001b[43my\u001b[49m\u001b[43m,\u001b[49m\u001b[43m \u001b[49m\u001b[43mgroups\u001b[49m\u001b[43m)\u001b[49m\u001b[43m)\u001b[49m\n\u001b[0;32m    835\u001b[0m \u001b[43m    \u001b[49m\u001b[43m)\u001b[49m\n\u001b[0;32m    836\u001b[0m \u001b[43m\u001b[49m\u001b[43m)\u001b[49m\n\u001b[0;32m    838\u001b[0m \u001b[38;5;28;01mif\u001b[39;00m \u001b[38;5;28mlen\u001b[39m(out) \u001b[38;5;241m<\u001b[39m \u001b[38;5;241m1\u001b[39m:\n\u001b[0;32m    839\u001b[0m     \u001b[38;5;28;01mraise\u001b[39;00m \u001b[38;5;167;01mValueError\u001b[39;00m(\n\u001b[0;32m    840\u001b[0m         \u001b[38;5;124m\"\u001b[39m\u001b[38;5;124mNo fits were performed. \u001b[39m\u001b[38;5;124m\"\u001b[39m\n\u001b[0;32m    841\u001b[0m         \u001b[38;5;124m\"\u001b[39m\u001b[38;5;124mWas the CV iterator empty? \u001b[39m\u001b[38;5;124m\"\u001b[39m\n\u001b[0;32m    842\u001b[0m         \u001b[38;5;124m\"\u001b[39m\u001b[38;5;124mWere there no candidates?\u001b[39m\u001b[38;5;124m\"\u001b[39m\n\u001b[0;32m    843\u001b[0m     )\n",
      "File \u001b[1;32m~\\anaconda3\\lib\\site-packages\\sklearn\\utils\\parallel.py:63\u001b[0m, in \u001b[0;36mParallel.__call__\u001b[1;34m(self, iterable)\u001b[0m\n\u001b[0;32m     58\u001b[0m config \u001b[38;5;241m=\u001b[39m get_config()\n\u001b[0;32m     59\u001b[0m iterable_with_config \u001b[38;5;241m=\u001b[39m (\n\u001b[0;32m     60\u001b[0m     (_with_config(delayed_func, config), args, kwargs)\n\u001b[0;32m     61\u001b[0m     \u001b[38;5;28;01mfor\u001b[39;00m delayed_func, args, kwargs \u001b[38;5;129;01min\u001b[39;00m iterable\n\u001b[0;32m     62\u001b[0m )\n\u001b[1;32m---> 63\u001b[0m \u001b[38;5;28;01mreturn\u001b[39;00m \u001b[38;5;28;43msuper\u001b[39;49m\u001b[43m(\u001b[49m\u001b[43m)\u001b[49m\u001b[38;5;241;43m.\u001b[39;49m\u001b[38;5;21;43m__call__\u001b[39;49m\u001b[43m(\u001b[49m\u001b[43miterable_with_config\u001b[49m\u001b[43m)\u001b[49m\n",
      "File \u001b[1;32m~\\anaconda3\\lib\\site-packages\\joblib\\parallel.py:1061\u001b[0m, in \u001b[0;36mParallel.__call__\u001b[1;34m(self, iterable)\u001b[0m\n\u001b[0;32m   1058\u001b[0m     \u001b[38;5;28mself\u001b[39m\u001b[38;5;241m.\u001b[39m_iterating \u001b[38;5;241m=\u001b[39m \u001b[38;5;28;01mFalse\u001b[39;00m\n\u001b[0;32m   1060\u001b[0m \u001b[38;5;28;01mwith\u001b[39;00m \u001b[38;5;28mself\u001b[39m\u001b[38;5;241m.\u001b[39m_backend\u001b[38;5;241m.\u001b[39mretrieval_context():\n\u001b[1;32m-> 1061\u001b[0m     \u001b[38;5;28;43mself\u001b[39;49m\u001b[38;5;241;43m.\u001b[39;49m\u001b[43mretrieve\u001b[49m\u001b[43m(\u001b[49m\u001b[43m)\u001b[49m\n\u001b[0;32m   1062\u001b[0m \u001b[38;5;66;03m# Make sure that we get a last message telling us we are done\u001b[39;00m\n\u001b[0;32m   1063\u001b[0m elapsed_time \u001b[38;5;241m=\u001b[39m time\u001b[38;5;241m.\u001b[39mtime() \u001b[38;5;241m-\u001b[39m \u001b[38;5;28mself\u001b[39m\u001b[38;5;241m.\u001b[39m_start_time\n",
      "File \u001b[1;32m~\\anaconda3\\lib\\site-packages\\joblib\\parallel.py:938\u001b[0m, in \u001b[0;36mParallel.retrieve\u001b[1;34m(self)\u001b[0m\n\u001b[0;32m    936\u001b[0m \u001b[38;5;28;01mtry\u001b[39;00m:\n\u001b[0;32m    937\u001b[0m     \u001b[38;5;28;01mif\u001b[39;00m \u001b[38;5;28mgetattr\u001b[39m(\u001b[38;5;28mself\u001b[39m\u001b[38;5;241m.\u001b[39m_backend, \u001b[38;5;124m'\u001b[39m\u001b[38;5;124msupports_timeout\u001b[39m\u001b[38;5;124m'\u001b[39m, \u001b[38;5;28;01mFalse\u001b[39;00m):\n\u001b[1;32m--> 938\u001b[0m         \u001b[38;5;28mself\u001b[39m\u001b[38;5;241m.\u001b[39m_output\u001b[38;5;241m.\u001b[39mextend(\u001b[43mjob\u001b[49m\u001b[38;5;241;43m.\u001b[39;49m\u001b[43mget\u001b[49m\u001b[43m(\u001b[49m\u001b[43mtimeout\u001b[49m\u001b[38;5;241;43m=\u001b[39;49m\u001b[38;5;28;43mself\u001b[39;49m\u001b[38;5;241;43m.\u001b[39;49m\u001b[43mtimeout\u001b[49m\u001b[43m)\u001b[49m)\n\u001b[0;32m    939\u001b[0m     \u001b[38;5;28;01melse\u001b[39;00m:\n\u001b[0;32m    940\u001b[0m         \u001b[38;5;28mself\u001b[39m\u001b[38;5;241m.\u001b[39m_output\u001b[38;5;241m.\u001b[39mextend(job\u001b[38;5;241m.\u001b[39mget())\n",
      "File \u001b[1;32m~\\anaconda3\\lib\\site-packages\\joblib\\_parallel_backends.py:542\u001b[0m, in \u001b[0;36mLokyBackend.wrap_future_result\u001b[1;34m(future, timeout)\u001b[0m\n\u001b[0;32m    539\u001b[0m \u001b[38;5;124;03m\"\"\"Wrapper for Future.result to implement the same behaviour as\u001b[39;00m\n\u001b[0;32m    540\u001b[0m \u001b[38;5;124;03mAsyncResults.get from multiprocessing.\"\"\"\u001b[39;00m\n\u001b[0;32m    541\u001b[0m \u001b[38;5;28;01mtry\u001b[39;00m:\n\u001b[1;32m--> 542\u001b[0m     \u001b[38;5;28;01mreturn\u001b[39;00m \u001b[43mfuture\u001b[49m\u001b[38;5;241;43m.\u001b[39;49m\u001b[43mresult\u001b[49m\u001b[43m(\u001b[49m\u001b[43mtimeout\u001b[49m\u001b[38;5;241;43m=\u001b[39;49m\u001b[43mtimeout\u001b[49m\u001b[43m)\u001b[49m\n\u001b[0;32m    543\u001b[0m \u001b[38;5;28;01mexcept\u001b[39;00m CfTimeoutError \u001b[38;5;28;01mas\u001b[39;00m e:\n\u001b[0;32m    544\u001b[0m     \u001b[38;5;28;01mraise\u001b[39;00m \u001b[38;5;167;01mTimeoutError\u001b[39;00m \u001b[38;5;28;01mfrom\u001b[39;00m \u001b[38;5;21;01me\u001b[39;00m\n",
      "File \u001b[1;32m~\\anaconda3\\lib\\concurrent\\futures\\_base.py:453\u001b[0m, in \u001b[0;36mFuture.result\u001b[1;34m(self, timeout)\u001b[0m\n\u001b[0;32m    450\u001b[0m \u001b[38;5;28;01melif\u001b[39;00m \u001b[38;5;28mself\u001b[39m\u001b[38;5;241m.\u001b[39m_state \u001b[38;5;241m==\u001b[39m FINISHED:\n\u001b[0;32m    451\u001b[0m     \u001b[38;5;28;01mreturn\u001b[39;00m \u001b[38;5;28mself\u001b[39m\u001b[38;5;241m.\u001b[39m__get_result()\n\u001b[1;32m--> 453\u001b[0m \u001b[38;5;28;43mself\u001b[39;49m\u001b[38;5;241;43m.\u001b[39;49m\u001b[43m_condition\u001b[49m\u001b[38;5;241;43m.\u001b[39;49m\u001b[43mwait\u001b[49m\u001b[43m(\u001b[49m\u001b[43mtimeout\u001b[49m\u001b[43m)\u001b[49m\n\u001b[0;32m    455\u001b[0m \u001b[38;5;28;01mif\u001b[39;00m \u001b[38;5;28mself\u001b[39m\u001b[38;5;241m.\u001b[39m_state \u001b[38;5;129;01min\u001b[39;00m [CANCELLED, CANCELLED_AND_NOTIFIED]:\n\u001b[0;32m    456\u001b[0m     \u001b[38;5;28;01mraise\u001b[39;00m CancelledError()\n",
      "File \u001b[1;32m~\\anaconda3\\lib\\threading.py:320\u001b[0m, in \u001b[0;36mCondition.wait\u001b[1;34m(self, timeout)\u001b[0m\n\u001b[0;32m    318\u001b[0m \u001b[38;5;28;01mtry\u001b[39;00m:    \u001b[38;5;66;03m# restore state no matter what (e.g., KeyboardInterrupt)\u001b[39;00m\n\u001b[0;32m    319\u001b[0m     \u001b[38;5;28;01mif\u001b[39;00m timeout \u001b[38;5;129;01mis\u001b[39;00m \u001b[38;5;28;01mNone\u001b[39;00m:\n\u001b[1;32m--> 320\u001b[0m         \u001b[43mwaiter\u001b[49m\u001b[38;5;241;43m.\u001b[39;49m\u001b[43macquire\u001b[49m\u001b[43m(\u001b[49m\u001b[43m)\u001b[49m\n\u001b[0;32m    321\u001b[0m         gotit \u001b[38;5;241m=\u001b[39m \u001b[38;5;28;01mTrue\u001b[39;00m\n\u001b[0;32m    322\u001b[0m     \u001b[38;5;28;01melse\u001b[39;00m:\n",
      "\u001b[1;31mKeyboardInterrupt\u001b[0m: "
     ]
    }
   ],
   "source": [
    "grid_search_rf.fit(X_train,y_train)"
   ]
  },
  {
   "cell_type": "code",
   "execution_count": 162,
   "id": "63eaffa0",
   "metadata": {},
   "outputs": [
    {
     "data": {
      "text/plain": [
       "0.8533134328358208"
      ]
     },
     "execution_count": 162,
     "metadata": {},
     "output_type": "execute_result"
    }
   ],
   "source": [
    "grid_search_rf.best_score_"
   ]
  },
  {
   "cell_type": "code",
   "execution_count": 182,
   "id": "9d6f1ab5",
   "metadata": {},
   "outputs": [
    {
     "name": "stdout",
     "output_type": "stream",
     "text": [
      "Optimum parameters for random forest model using gridSearchCV is\n"
     ]
    },
    {
     "data": {
      "text/plain": [
       "{'max_depth': 9,\n",
       " 'max_features': 'sqrt',\n",
       " 'max_leaf_nodes': 9,\n",
       " 'n_estimators': 50}"
      ]
     },
     "execution_count": 182,
     "metadata": {},
     "output_type": "execute_result"
    }
   ],
   "source": [
    "print(\"Optimum parameters for random forest model using gridSearchCV is\")\n",
    "grid_search_rf.best_params_"
   ]
  },
  {
   "cell_type": "code",
   "execution_count": 25,
   "id": "7e78b426",
   "metadata": {},
   "outputs": [
    {
     "name": "stdout",
     "output_type": "stream",
     "text": [
      "Accuracy of the random forest model on test dataset after hyperparameter tuning is 83.55%\n"
     ]
    }
   ],
   "source": [
    "model_RF2 = RandomForestClassifier(max_depth=9,max_features='sqrt',max_leaf_nodes=9, n_estimators= 50 ,random_state=0)\n",
    "model_RF2.fit(X_train, y_train)\n",
    "pred_RF_train2=model_RF2.predict(X_train)\n",
    "pred_RF_test2=model_RF2.predict(X_test)\n",
    "train_score2=model_RF2.score(X_train,y_train)\n",
    "test_score2=model_RF2.score(X_test,y_test)\n",
    "print(\"Accuracy of the random forest model on test dataset after hyperparameter tuning is \"+str(round(test_score2*100,2))+\"%\")"
   ]
  },
  {
   "cell_type": "code",
   "execution_count": 42,
   "id": "3c709500",
   "metadata": {},
   "outputs": [
    {
     "name": "stdout",
     "output_type": "stream",
     "text": [
      "                   precision    recall  f1-score   support\n",
      "\n",
      "  Collision_Link5       0.92      0.24      0.38        46\n",
      "  Collision_Link6       0.86      0.53      0.66        47\n",
      "Intentional_Link5       0.64      0.77      0.70        87\n",
      "Intentional_Link6       0.57      0.83      0.68        71\n",
      "       Noncontact       0.99      1.00      0.99       290\n",
      "\n",
      "         accuracy                           0.84       541\n",
      "        macro avg       0.80      0.67      0.68       541\n",
      "     weighted avg       0.86      0.84      0.82       541\n",
      "\n"
     ]
    }
   ],
   "source": [
    "print(classification_report(y_test,pred_RF_test2))"
   ]
  },
  {
   "cell_type": "code",
   "execution_count": 26,
   "id": "cbc3d213",
   "metadata": {},
   "outputs": [],
   "source": [
    "from sklearn.ensemble import BaggingClassifier\n",
    "bag = BaggingClassifier(n_estimators=20, random_state=0)"
   ]
  },
  {
   "cell_type": "code",
   "execution_count": 27,
   "id": "f75656d7",
   "metadata": {},
   "outputs": [
    {
     "ename": "NameError",
     "evalue": "name 'bag_tree' is not defined",
     "output_type": "error",
     "traceback": [
      "\u001b[1;31m---------------------------------------------------------------------------\u001b[0m",
      "\u001b[1;31mNameError\u001b[0m                                 Traceback (most recent call last)",
      "Cell \u001b[1;32mIn[27], line 1\u001b[0m\n\u001b[1;32m----> 1\u001b[0m \u001b[43mbag_tree\u001b[49m\u001b[38;5;241m.\u001b[39mfit(X_train,y_train)\n\u001b[0;32m      2\u001b[0m pred_bag_tree_train\u001b[38;5;241m=\u001b[39mbag_tree\u001b[38;5;241m.\u001b[39mpredict(X_train)\n\u001b[0;32m      3\u001b[0m pred_bag_tree_test\u001b[38;5;241m=\u001b[39mbag_tree\u001b[38;5;241m.\u001b[39mpredict(X_test)\n",
      "\u001b[1;31mNameError\u001b[0m: name 'bag_tree' is not defined"
     ]
    }
   ],
   "source": [
    "bag_tree.fit(X_train,y_train)\n",
    "pred_bag_tree_train=bag_tree.predict(X_train)\n",
    "pred_bag_tree_test=bag_tree.predict(X_test)\n",
    "print(classification_report(y_test,pred_bag_tree_test))"
   ]
  },
  {
   "cell_type": "code",
   "execution_count": 114,
   "id": "da270bce",
   "metadata": {},
   "outputs": [
    {
     "data": {
      "text/html": [
       "<style>#sk-container-id-6 {color: black;background-color: white;}#sk-container-id-6 pre{padding: 0;}#sk-container-id-6 div.sk-toggleable {background-color: white;}#sk-container-id-6 label.sk-toggleable__label {cursor: pointer;display: block;width: 100%;margin-bottom: 0;padding: 0.3em;box-sizing: border-box;text-align: center;}#sk-container-id-6 label.sk-toggleable__label-arrow:before {content: \"▸\";float: left;margin-right: 0.25em;color: #696969;}#sk-container-id-6 label.sk-toggleable__label-arrow:hover:before {color: black;}#sk-container-id-6 div.sk-estimator:hover label.sk-toggleable__label-arrow:before {color: black;}#sk-container-id-6 div.sk-toggleable__content {max-height: 0;max-width: 0;overflow: hidden;text-align: left;background-color: #f0f8ff;}#sk-container-id-6 div.sk-toggleable__content pre {margin: 0.2em;color: black;border-radius: 0.25em;background-color: #f0f8ff;}#sk-container-id-6 input.sk-toggleable__control:checked~div.sk-toggleable__content {max-height: 200px;max-width: 100%;overflow: auto;}#sk-container-id-6 input.sk-toggleable__control:checked~label.sk-toggleable__label-arrow:before {content: \"▾\";}#sk-container-id-6 div.sk-estimator input.sk-toggleable__control:checked~label.sk-toggleable__label {background-color: #d4ebff;}#sk-container-id-6 div.sk-label input.sk-toggleable__control:checked~label.sk-toggleable__label {background-color: #d4ebff;}#sk-container-id-6 input.sk-hidden--visually {border: 0;clip: rect(1px 1px 1px 1px);clip: rect(1px, 1px, 1px, 1px);height: 1px;margin: -1px;overflow: hidden;padding: 0;position: absolute;width: 1px;}#sk-container-id-6 div.sk-estimator {font-family: monospace;background-color: #f0f8ff;border: 1px dotted black;border-radius: 0.25em;box-sizing: border-box;margin-bottom: 0.5em;}#sk-container-id-6 div.sk-estimator:hover {background-color: #d4ebff;}#sk-container-id-6 div.sk-parallel-item::after {content: \"\";width: 100%;border-bottom: 1px solid gray;flex-grow: 1;}#sk-container-id-6 div.sk-label:hover label.sk-toggleable__label {background-color: #d4ebff;}#sk-container-id-6 div.sk-serial::before {content: \"\";position: absolute;border-left: 1px solid gray;box-sizing: border-box;top: 0;bottom: 0;left: 50%;z-index: 0;}#sk-container-id-6 div.sk-serial {display: flex;flex-direction: column;align-items: center;background-color: white;padding-right: 0.2em;padding-left: 0.2em;position: relative;}#sk-container-id-6 div.sk-item {position: relative;z-index: 1;}#sk-container-id-6 div.sk-parallel {display: flex;align-items: stretch;justify-content: center;background-color: white;position: relative;}#sk-container-id-6 div.sk-item::before, #sk-container-id-6 div.sk-parallel-item::before {content: \"\";position: absolute;border-left: 1px solid gray;box-sizing: border-box;top: 0;bottom: 0;left: 50%;z-index: -1;}#sk-container-id-6 div.sk-parallel-item {display: flex;flex-direction: column;z-index: 1;position: relative;background-color: white;}#sk-container-id-6 div.sk-parallel-item:first-child::after {align-self: flex-end;width: 50%;}#sk-container-id-6 div.sk-parallel-item:last-child::after {align-self: flex-start;width: 50%;}#sk-container-id-6 div.sk-parallel-item:only-child::after {width: 0;}#sk-container-id-6 div.sk-dashed-wrapped {border: 1px dashed gray;margin: 0 0.4em 0.5em 0.4em;box-sizing: border-box;padding-bottom: 0.4em;background-color: white;}#sk-container-id-6 div.sk-label label {font-family: monospace;font-weight: bold;display: inline-block;line-height: 1.2em;}#sk-container-id-6 div.sk-label-container {text-align: center;}#sk-container-id-6 div.sk-container {/* jupyter's `normalize.less` sets `[hidden] { display: none; }` but bootstrap.min.css set `[hidden] { display: none !important; }` so we also need the `!important` here to be able to override the default hidden behavior on the sphinx rendered scikit-learn.org. See: https://github.com/scikit-learn/scikit-learn/issues/21755 */display: inline-block !important;position: relative;}#sk-container-id-6 div.sk-text-repr-fallback {display: none;}</style><div id=\"sk-container-id-6\" class=\"sk-top-container\"><div class=\"sk-text-repr-fallback\"><pre>BaggingClassifier(estimator=SVC(), n_estimators=20, random_state=0)</pre><b>In a Jupyter environment, please rerun this cell to show the HTML representation or trust the notebook. <br />On GitHub, the HTML representation is unable to render, please try loading this page with nbviewer.org.</b></div><div class=\"sk-container\" hidden><div class=\"sk-item sk-dashed-wrapped\"><div class=\"sk-label-container\"><div class=\"sk-label sk-toggleable\"><input class=\"sk-toggleable__control sk-hidden--visually\" id=\"sk-estimator-id-6\" type=\"checkbox\" ><label for=\"sk-estimator-id-6\" class=\"sk-toggleable__label sk-toggleable__label-arrow\">BaggingClassifier</label><div class=\"sk-toggleable__content\"><pre>BaggingClassifier(estimator=SVC(), n_estimators=20, random_state=0)</pre></div></div></div><div class=\"sk-parallel\"><div class=\"sk-parallel-item\"><div class=\"sk-item\"><div class=\"sk-label-container\"><div class=\"sk-label sk-toggleable\"><input class=\"sk-toggleable__control sk-hidden--visually\" id=\"sk-estimator-id-7\" type=\"checkbox\" ><label for=\"sk-estimator-id-7\" class=\"sk-toggleable__label sk-toggleable__label-arrow\">estimator: SVC</label><div class=\"sk-toggleable__content\"><pre>SVC()</pre></div></div></div><div class=\"sk-serial\"><div class=\"sk-item\"><div class=\"sk-estimator sk-toggleable\"><input class=\"sk-toggleable__control sk-hidden--visually\" id=\"sk-estimator-id-8\" type=\"checkbox\" ><label for=\"sk-estimator-id-8\" class=\"sk-toggleable__label sk-toggleable__label-arrow\">SVC</label><div class=\"sk-toggleable__content\"><pre>SVC()</pre></div></div></div></div></div></div></div></div></div></div>"
      ],
      "text/plain": [
       "BaggingClassifier(estimator=SVC(), n_estimators=20, random_state=0)"
      ]
     },
     "execution_count": 114,
     "metadata": {},
     "output_type": "execute_result"
    }
   ],
   "source": [
    "bag.fit(X_train,y_train)"
   ]
  },
  {
   "cell_type": "code",
   "execution_count": 115,
   "id": "02254216",
   "metadata": {},
   "outputs": [],
   "source": [
    "pred_bag_train=bag.predict(X_train)\n",
    "pred_bag_test=bag.predict(X_test)"
   ]
  },
  {
   "cell_type": "code",
   "execution_count": 196,
   "id": "abc4085c",
   "metadata": {},
   "outputs": [
    {
     "name": "stdout",
     "output_type": "stream",
     "text": [
      "Accuracy of ensemble bagging tree model in test dataset is 89.65%\n"
     ]
    }
   ],
   "source": [
    "acc_bg=accuracy_score(y_test,pred_bag_test)\n",
    "print(\"Accuracy of ensemble bagging tree model in test dataset is \" +str(round(acc_bg*100,2))+\"%\")"
   ]
  },
  {
   "cell_type": "code",
   "execution_count": 116,
   "id": "ae3d1a11",
   "metadata": {},
   "outputs": [
    {
     "name": "stdout",
     "output_type": "stream",
     "text": [
      "                   precision    recall  f1-score   support\n",
      "\n",
      "  Collision_Link5       0.89      0.99      0.94        83\n",
      "  Collision_Link6       0.96      0.96      0.96        85\n",
      "Intentional_Link5       0.97      0.85      0.91       138\n",
      "Intentional_Link6       0.90      0.93      0.91       147\n",
      "       Noncontact       0.99      1.00      1.00       549\n",
      "\n",
      "         accuracy                           0.96      1002\n",
      "        macro avg       0.94      0.95      0.94      1002\n",
      "     weighted avg       0.97      0.96      0.96      1002\n",
      "\n"
     ]
    }
   ],
   "source": [
    "print(classification_report(y_train,pred_bag_train))"
   ]
  },
  {
   "cell_type": "code",
   "execution_count": 117,
   "id": "d5608d08",
   "metadata": {},
   "outputs": [
    {
     "name": "stdout",
     "output_type": "stream",
     "text": [
      "                   precision    recall  f1-score   support\n",
      "\n",
      "  Collision_Link5       0.66      0.85      0.74        46\n",
      "  Collision_Link6       0.95      0.85      0.90        47\n",
      "Intentional_Link5       0.86      0.69      0.76        87\n",
      "Intentional_Link6       0.73      0.79      0.76        71\n",
      "       Noncontact       0.99      1.00      0.99       290\n",
      "\n",
      "         accuracy                           0.90       541\n",
      "        macro avg       0.84      0.84      0.83       541\n",
      "     weighted avg       0.90      0.90      0.90       541\n",
      "\n"
     ]
    }
   ],
   "source": [
    "print(classification_report(y_test,pred_bag_test))"
   ]
  },
  {
   "cell_type": "code",
   "execution_count": 28,
   "id": "b6a6bf7c",
   "metadata": {},
   "outputs": [
    {
     "data": {
      "text/html": [
       "<style>#sk-container-id-2 {color: black;background-color: white;}#sk-container-id-2 pre{padding: 0;}#sk-container-id-2 div.sk-toggleable {background-color: white;}#sk-container-id-2 label.sk-toggleable__label {cursor: pointer;display: block;width: 100%;margin-bottom: 0;padding: 0.3em;box-sizing: border-box;text-align: center;}#sk-container-id-2 label.sk-toggleable__label-arrow:before {content: \"▸\";float: left;margin-right: 0.25em;color: #696969;}#sk-container-id-2 label.sk-toggleable__label-arrow:hover:before {color: black;}#sk-container-id-2 div.sk-estimator:hover label.sk-toggleable__label-arrow:before {color: black;}#sk-container-id-2 div.sk-toggleable__content {max-height: 0;max-width: 0;overflow: hidden;text-align: left;background-color: #f0f8ff;}#sk-container-id-2 div.sk-toggleable__content pre {margin: 0.2em;color: black;border-radius: 0.25em;background-color: #f0f8ff;}#sk-container-id-2 input.sk-toggleable__control:checked~div.sk-toggleable__content {max-height: 200px;max-width: 100%;overflow: auto;}#sk-container-id-2 input.sk-toggleable__control:checked~label.sk-toggleable__label-arrow:before {content: \"▾\";}#sk-container-id-2 div.sk-estimator input.sk-toggleable__control:checked~label.sk-toggleable__label {background-color: #d4ebff;}#sk-container-id-2 div.sk-label input.sk-toggleable__control:checked~label.sk-toggleable__label {background-color: #d4ebff;}#sk-container-id-2 input.sk-hidden--visually {border: 0;clip: rect(1px 1px 1px 1px);clip: rect(1px, 1px, 1px, 1px);height: 1px;margin: -1px;overflow: hidden;padding: 0;position: absolute;width: 1px;}#sk-container-id-2 div.sk-estimator {font-family: monospace;background-color: #f0f8ff;border: 1px dotted black;border-radius: 0.25em;box-sizing: border-box;margin-bottom: 0.5em;}#sk-container-id-2 div.sk-estimator:hover {background-color: #d4ebff;}#sk-container-id-2 div.sk-parallel-item::after {content: \"\";width: 100%;border-bottom: 1px solid gray;flex-grow: 1;}#sk-container-id-2 div.sk-label:hover label.sk-toggleable__label {background-color: #d4ebff;}#sk-container-id-2 div.sk-serial::before {content: \"\";position: absolute;border-left: 1px solid gray;box-sizing: border-box;top: 0;bottom: 0;left: 50%;z-index: 0;}#sk-container-id-2 div.sk-serial {display: flex;flex-direction: column;align-items: center;background-color: white;padding-right: 0.2em;padding-left: 0.2em;position: relative;}#sk-container-id-2 div.sk-item {position: relative;z-index: 1;}#sk-container-id-2 div.sk-parallel {display: flex;align-items: stretch;justify-content: center;background-color: white;position: relative;}#sk-container-id-2 div.sk-item::before, #sk-container-id-2 div.sk-parallel-item::before {content: \"\";position: absolute;border-left: 1px solid gray;box-sizing: border-box;top: 0;bottom: 0;left: 50%;z-index: -1;}#sk-container-id-2 div.sk-parallel-item {display: flex;flex-direction: column;z-index: 1;position: relative;background-color: white;}#sk-container-id-2 div.sk-parallel-item:first-child::after {align-self: flex-end;width: 50%;}#sk-container-id-2 div.sk-parallel-item:last-child::after {align-self: flex-start;width: 50%;}#sk-container-id-2 div.sk-parallel-item:only-child::after {width: 0;}#sk-container-id-2 div.sk-dashed-wrapped {border: 1px dashed gray;margin: 0 0.4em 0.5em 0.4em;box-sizing: border-box;padding-bottom: 0.4em;background-color: white;}#sk-container-id-2 div.sk-label label {font-family: monospace;font-weight: bold;display: inline-block;line-height: 1.2em;}#sk-container-id-2 div.sk-label-container {text-align: center;}#sk-container-id-2 div.sk-container {/* jupyter's `normalize.less` sets `[hidden] { display: none; }` but bootstrap.min.css set `[hidden] { display: none !important; }` so we also need the `!important` here to be able to override the default hidden behavior on the sphinx rendered scikit-learn.org. See: https://github.com/scikit-learn/scikit-learn/issues/21755 */display: inline-block !important;position: relative;}#sk-container-id-2 div.sk-text-repr-fallback {display: none;}</style><div id=\"sk-container-id-2\" class=\"sk-top-container\"><div class=\"sk-text-repr-fallback\"><pre>KNeighborsClassifier()</pre><b>In a Jupyter environment, please rerun this cell to show the HTML representation or trust the notebook. <br />On GitHub, the HTML representation is unable to render, please try loading this page with nbviewer.org.</b></div><div class=\"sk-container\" hidden><div class=\"sk-item\"><div class=\"sk-estimator sk-toggleable\"><input class=\"sk-toggleable__control sk-hidden--visually\" id=\"sk-estimator-id-2\" type=\"checkbox\" checked><label for=\"sk-estimator-id-2\" class=\"sk-toggleable__label sk-toggleable__label-arrow\">KNeighborsClassifier</label><div class=\"sk-toggleable__content\"><pre>KNeighborsClassifier()</pre></div></div></div></div></div>"
      ],
      "text/plain": [
       "KNeighborsClassifier()"
      ]
     },
     "execution_count": 28,
     "metadata": {},
     "output_type": "execute_result"
    }
   ],
   "source": [
    "from sklearn.neighbors import KNeighborsClassifier\n",
    "neigh = KNeighborsClassifier()\n",
    "neigh.fit(X_train, y_train)"
   ]
  },
  {
   "cell_type": "code",
   "execution_count": 29,
   "id": "fdd396ff",
   "metadata": {},
   "outputs": [],
   "source": [
    "pred_knn_train=neigh.predict(X_train)\n",
    "pred_knn_test=neigh.predict(X_test)"
   ]
  },
  {
   "cell_type": "code",
   "execution_count": 30,
   "id": "32b3481d",
   "metadata": {},
   "outputs": [
    {
     "name": "stdout",
     "output_type": "stream",
     "text": [
      "                   precision    recall  f1-score   support\n",
      "\n",
      "  Collision_Link5       0.82      0.96      0.88        83\n",
      "  Collision_Link6       0.93      0.93      0.93        85\n",
      "Intentional_Link5       0.92      0.85      0.88       138\n",
      "Intentional_Link6       0.95      0.78      0.86       147\n",
      "       Noncontact       0.96      1.00      0.98       549\n",
      "\n",
      "         accuracy                           0.94      1002\n",
      "        macro avg       0.92      0.90      0.91      1002\n",
      "     weighted avg       0.94      0.94      0.94      1002\n",
      "\n"
     ]
    }
   ],
   "source": [
    "print(classification_report(y_train,pred_knn_train))"
   ]
  },
  {
   "cell_type": "code",
   "execution_count": 31,
   "id": "7adcc158",
   "metadata": {},
   "outputs": [
    {
     "name": "stdout",
     "output_type": "stream",
     "text": [
      "                   precision    recall  f1-score   support\n",
      "\n",
      "  Collision_Link5       0.65      0.87      0.74        46\n",
      "  Collision_Link6       0.91      0.85      0.88        47\n",
      "Intentional_Link5       0.87      0.67      0.75        87\n",
      "Intentional_Link6       0.88      0.62      0.73        71\n",
      "       Noncontact       0.91      1.00      0.95       290\n",
      "\n",
      "         accuracy                           0.87       541\n",
      "        macro avg       0.84      0.80      0.81       541\n",
      "     weighted avg       0.88      0.87      0.87       541\n",
      "\n"
     ]
    }
   ],
   "source": [
    "print(classification_report(y_test,pred_knn_test))"
   ]
  },
  {
   "cell_type": "code",
   "execution_count": 32,
   "id": "984cb5dd",
   "metadata": {},
   "outputs": [],
   "source": [
    "acc_knn=accuracy_score(y_test,pred_knn_test)"
   ]
  },
  {
   "cell_type": "code",
   "execution_count": 33,
   "id": "878e2b5e",
   "metadata": {},
   "outputs": [
    {
     "name": "stdout",
     "output_type": "stream",
     "text": [
      "Accuracy of the KNN model on test dataset is 87.25%\n"
     ]
    }
   ],
   "source": [
    "print(\"Accuracy of the KNN model on test dataset is \"+str(round(acc_knn*100,2))+\"%\")"
   ]
  },
  {
   "cell_type": "code",
   "execution_count": 34,
   "id": "70e0f673",
   "metadata": {},
   "outputs": [],
   "source": [
    "from sklearn.model_selection import GridSearchCV\n",
    "list_=np.arange(1,25,1)\n",
    "grid_params_knn = { 'n_neighbors' : list_ ,\n",
    "               'weights' : ['uniform','distance'],\n",
    "               'metric' : ['minkowski','euclidean','manhattan']}\n",
    "gs_knn = GridSearchCV(KNeighborsClassifier(), grid_params_knn, verbose = 1, cv=5, n_jobs = -1)"
   ]
  },
  {
   "cell_type": "code",
   "execution_count": 128,
   "id": "0194c8f3",
   "metadata": {},
   "outputs": [
    {
     "name": "stdout",
     "output_type": "stream",
     "text": [
      "Fitting 5 folds for each of 144 candidates, totalling 720 fits\n"
     ]
    },
    {
     "data": {
      "text/html": [
       "<style>#sk-container-id-8 {color: black;background-color: white;}#sk-container-id-8 pre{padding: 0;}#sk-container-id-8 div.sk-toggleable {background-color: white;}#sk-container-id-8 label.sk-toggleable__label {cursor: pointer;display: block;width: 100%;margin-bottom: 0;padding: 0.3em;box-sizing: border-box;text-align: center;}#sk-container-id-8 label.sk-toggleable__label-arrow:before {content: \"▸\";float: left;margin-right: 0.25em;color: #696969;}#sk-container-id-8 label.sk-toggleable__label-arrow:hover:before {color: black;}#sk-container-id-8 div.sk-estimator:hover label.sk-toggleable__label-arrow:before {color: black;}#sk-container-id-8 div.sk-toggleable__content {max-height: 0;max-width: 0;overflow: hidden;text-align: left;background-color: #f0f8ff;}#sk-container-id-8 div.sk-toggleable__content pre {margin: 0.2em;color: black;border-radius: 0.25em;background-color: #f0f8ff;}#sk-container-id-8 input.sk-toggleable__control:checked~div.sk-toggleable__content {max-height: 200px;max-width: 100%;overflow: auto;}#sk-container-id-8 input.sk-toggleable__control:checked~label.sk-toggleable__label-arrow:before {content: \"▾\";}#sk-container-id-8 div.sk-estimator input.sk-toggleable__control:checked~label.sk-toggleable__label {background-color: #d4ebff;}#sk-container-id-8 div.sk-label input.sk-toggleable__control:checked~label.sk-toggleable__label {background-color: #d4ebff;}#sk-container-id-8 input.sk-hidden--visually {border: 0;clip: rect(1px 1px 1px 1px);clip: rect(1px, 1px, 1px, 1px);height: 1px;margin: -1px;overflow: hidden;padding: 0;position: absolute;width: 1px;}#sk-container-id-8 div.sk-estimator {font-family: monospace;background-color: #f0f8ff;border: 1px dotted black;border-radius: 0.25em;box-sizing: border-box;margin-bottom: 0.5em;}#sk-container-id-8 div.sk-estimator:hover {background-color: #d4ebff;}#sk-container-id-8 div.sk-parallel-item::after {content: \"\";width: 100%;border-bottom: 1px solid gray;flex-grow: 1;}#sk-container-id-8 div.sk-label:hover label.sk-toggleable__label {background-color: #d4ebff;}#sk-container-id-8 div.sk-serial::before {content: \"\";position: absolute;border-left: 1px solid gray;box-sizing: border-box;top: 0;bottom: 0;left: 50%;z-index: 0;}#sk-container-id-8 div.sk-serial {display: flex;flex-direction: column;align-items: center;background-color: white;padding-right: 0.2em;padding-left: 0.2em;position: relative;}#sk-container-id-8 div.sk-item {position: relative;z-index: 1;}#sk-container-id-8 div.sk-parallel {display: flex;align-items: stretch;justify-content: center;background-color: white;position: relative;}#sk-container-id-8 div.sk-item::before, #sk-container-id-8 div.sk-parallel-item::before {content: \"\";position: absolute;border-left: 1px solid gray;box-sizing: border-box;top: 0;bottom: 0;left: 50%;z-index: -1;}#sk-container-id-8 div.sk-parallel-item {display: flex;flex-direction: column;z-index: 1;position: relative;background-color: white;}#sk-container-id-8 div.sk-parallel-item:first-child::after {align-self: flex-end;width: 50%;}#sk-container-id-8 div.sk-parallel-item:last-child::after {align-self: flex-start;width: 50%;}#sk-container-id-8 div.sk-parallel-item:only-child::after {width: 0;}#sk-container-id-8 div.sk-dashed-wrapped {border: 1px dashed gray;margin: 0 0.4em 0.5em 0.4em;box-sizing: border-box;padding-bottom: 0.4em;background-color: white;}#sk-container-id-8 div.sk-label label {font-family: monospace;font-weight: bold;display: inline-block;line-height: 1.2em;}#sk-container-id-8 div.sk-label-container {text-align: center;}#sk-container-id-8 div.sk-container {/* jupyter's `normalize.less` sets `[hidden] { display: none; }` but bootstrap.min.css set `[hidden] { display: none !important; }` so we also need the `!important` here to be able to override the default hidden behavior on the sphinx rendered scikit-learn.org. See: https://github.com/scikit-learn/scikit-learn/issues/21755 */display: inline-block !important;position: relative;}#sk-container-id-8 div.sk-text-repr-fallback {display: none;}</style><div id=\"sk-container-id-8\" class=\"sk-top-container\"><div class=\"sk-text-repr-fallback\"><pre>GridSearchCV(cv=5, estimator=KNeighborsClassifier(), n_jobs=-1,\n",
       "             param_grid={&#x27;metric&#x27;: [&#x27;minkowski&#x27;, &#x27;euclidean&#x27;, &#x27;manhattan&#x27;],\n",
       "                         &#x27;n_neighbors&#x27;: array([ 1,  2,  3,  4,  5,  6,  7,  8,  9, 10, 11, 12, 13, 14, 15, 16, 17,\n",
       "       18, 19, 20, 21, 22, 23, 24]),\n",
       "                         &#x27;weights&#x27;: [&#x27;uniform&#x27;, &#x27;distance&#x27;]},\n",
       "             verbose=1)</pre><b>In a Jupyter environment, please rerun this cell to show the HTML representation or trust the notebook. <br />On GitHub, the HTML representation is unable to render, please try loading this page with nbviewer.org.</b></div><div class=\"sk-container\" hidden><div class=\"sk-item sk-dashed-wrapped\"><div class=\"sk-label-container\"><div class=\"sk-label sk-toggleable\"><input class=\"sk-toggleable__control sk-hidden--visually\" id=\"sk-estimator-id-10\" type=\"checkbox\" ><label for=\"sk-estimator-id-10\" class=\"sk-toggleable__label sk-toggleable__label-arrow\">GridSearchCV</label><div class=\"sk-toggleable__content\"><pre>GridSearchCV(cv=5, estimator=KNeighborsClassifier(), n_jobs=-1,\n",
       "             param_grid={&#x27;metric&#x27;: [&#x27;minkowski&#x27;, &#x27;euclidean&#x27;, &#x27;manhattan&#x27;],\n",
       "                         &#x27;n_neighbors&#x27;: array([ 1,  2,  3,  4,  5,  6,  7,  8,  9, 10, 11, 12, 13, 14, 15, 16, 17,\n",
       "       18, 19, 20, 21, 22, 23, 24]),\n",
       "                         &#x27;weights&#x27;: [&#x27;uniform&#x27;, &#x27;distance&#x27;]},\n",
       "             verbose=1)</pre></div></div></div><div class=\"sk-parallel\"><div class=\"sk-parallel-item\"><div class=\"sk-item\"><div class=\"sk-label-container\"><div class=\"sk-label sk-toggleable\"><input class=\"sk-toggleable__control sk-hidden--visually\" id=\"sk-estimator-id-11\" type=\"checkbox\" ><label for=\"sk-estimator-id-11\" class=\"sk-toggleable__label sk-toggleable__label-arrow\">estimator: KNeighborsClassifier</label><div class=\"sk-toggleable__content\"><pre>KNeighborsClassifier()</pre></div></div></div><div class=\"sk-serial\"><div class=\"sk-item\"><div class=\"sk-estimator sk-toggleable\"><input class=\"sk-toggleable__control sk-hidden--visually\" id=\"sk-estimator-id-12\" type=\"checkbox\" ><label for=\"sk-estimator-id-12\" class=\"sk-toggleable__label sk-toggleable__label-arrow\">KNeighborsClassifier</label><div class=\"sk-toggleable__content\"><pre>KNeighborsClassifier()</pre></div></div></div></div></div></div></div></div></div></div>"
      ],
      "text/plain": [
       "GridSearchCV(cv=5, estimator=KNeighborsClassifier(), n_jobs=-1,\n",
       "             param_grid={'metric': ['minkowski', 'euclidean', 'manhattan'],\n",
       "                         'n_neighbors': array([ 1,  2,  3,  4,  5,  6,  7,  8,  9, 10, 11, 12, 13, 14, 15, 16, 17,\n",
       "       18, 19, 20, 21, 22, 23, 24]),\n",
       "                         'weights': ['uniform', 'distance']},\n",
       "             verbose=1)"
      ]
     },
     "execution_count": 128,
     "metadata": {},
     "output_type": "execute_result"
    }
   ],
   "source": [
    "gs_knn.fit(X_train,y_train)"
   ]
  },
  {
   "cell_type": "code",
   "execution_count": 129,
   "id": "25ce22d3",
   "metadata": {},
   "outputs": [
    {
     "data": {
      "text/plain": [
       "0.9161542288557214"
      ]
     },
     "execution_count": 129,
     "metadata": {},
     "output_type": "execute_result"
    }
   ],
   "source": [
    "gs_knn.best_score_"
   ]
  },
  {
   "cell_type": "code",
   "execution_count": 180,
   "id": "2e649a73",
   "metadata": {},
   "outputs": [
    {
     "name": "stdout",
     "output_type": "stream",
     "text": [
      "Optimum hyperparameters found using grid search are\n",
      "\n"
     ]
    },
    {
     "data": {
      "text/plain": [
       "{'metric': 'manhattan', 'n_neighbors': 3, 'weights': 'distance'}"
      ]
     },
     "execution_count": 180,
     "metadata": {},
     "output_type": "execute_result"
    }
   ],
   "source": [
    "print(\"Optimum hyperparameters found using grid search are\\n\")\n",
    "gs_knn.best_params_"
   ]
  },
  {
   "cell_type": "code",
   "execution_count": 168,
   "id": "3e61302c",
   "metadata": {},
   "outputs": [
    {
     "name": "stdout",
     "output_type": "stream",
     "text": [
      "Accuracy of the model after hyperparameter tuning is 91.62%\n"
     ]
    }
   ],
   "source": [
    "neigh2 = KNeighborsClassifier(n_neighbors=3,metric='manhattan',weights='distance')\n",
    "neigh2.fit(X_train,y_train)\n",
    "print(\"Accuracy of the model after hyperparameter tuning is \"+str(round(gs_knn.best_score_*100,2))+\"%\")"
   ]
  },
  {
   "cell_type": "code",
   "execution_count": 177,
   "id": "07c39624",
   "metadata": {},
   "outputs": [],
   "source": [
    "pred_RF_train=gs_knn.predict(X_train)\n",
    "pred_knn_test_=gs_knn.predict(X_test)\n",
    "acc_knn_=accuracy_score(y_test, pred_knn_test_)"
   ]
  },
  {
   "cell_type": "code",
   "execution_count": 179,
   "id": "f2aa9009",
   "metadata": {},
   "outputs": [
    {
     "name": "stdout",
     "output_type": "stream",
     "text": [
      "Accuracy of the model after hyperparameter tuning is 91.5%\n"
     ]
    }
   ],
   "source": [
    "print(\"Accuracy of the model after hyperparameter tuning is \"+str(round(acc_knn_*100,2))+\"%\")"
   ]
  },
  {
   "cell_type": "code",
   "execution_count": 176,
   "id": "f76c223e",
   "metadata": {},
   "outputs": [
    {
     "name": "stdout",
     "output_type": "stream",
     "text": [
      "                   precision    recall  f1-score   support\n",
      "\n",
      "  Collision_Link5       0.72      0.93      0.81        46\n",
      "  Collision_Link6       0.95      0.89      0.92        47\n",
      "Intentional_Link5       0.89      0.76      0.82        87\n",
      "Intentional_Link6       0.92      0.76      0.83        71\n",
      "       Noncontact       0.95      1.00      0.98       290\n",
      "\n",
      "         accuracy                           0.91       541\n",
      "        macro avg       0.89      0.87      0.87       541\n",
      "     weighted avg       0.92      0.91      0.91       541\n",
      "\n"
     ]
    }
   ],
   "source": [
    "print(classification_report(y_test,pred_knn_test_))"
   ]
  },
  {
   "cell_type": "code",
   "execution_count": 209,
   "id": "f98b4b2d",
   "metadata": {},
   "outputs": [
    {
     "data": {
      "image/png": "[encoded data removed]",
      "text/plain": [
       "<Figure size 640x480 with 1 Axes>"
      ]
     },
     "metadata": {},
     "output_type": "display_data"
    }
   ],
   "source": [
    "import matplotlib.pyplot as plt\n",
    "import numpy as np\n",
    "\n",
    "species = (\"Precision\", \"Recall\",\"f1-score\")\n",
    "penguin_means = {\n",
    "    'Random forest': (0,0,0),\n",
    "    'Bagging tree Classifier': (66,85,74),\n",
    "    'K-nearest neighbor': (65,89,75)\n",
    "}\n",
    "\n",
    "x = np.arange(len(species))  # the label locations\n",
    "width = 0.25  # the width of the bars\n",
    "multiplier = 0\n",
    "\n",
    "fig, ax = plt.subplots(layout='constrained')\n",
    "\n",
    "for attribute, measurement in penguin_means.items():\n",
    "    offset = width * multiplier\n",
    "    rects = ax.bar(x + offset, measurement, width, label=attribute)\n",
    "    ax.bar_label(rects, padding=3)\n",
    "    multiplier += 1\n",
    "\n",
    "# Add some text for labels, title and custom x-axis tick labels, etc.\n",
    "ax.set_ylabel('Percentange')\n",
    "\n",
    "ax.set_xticks(x + width, species)\n",
    "ax.legend(loc='upper left', ncols=3)\n",
    "ax.set_ylim(0, 250)\n",
    "\n",
    "plt.show()"
   ]
  },
  {
   "cell_type": "code",
   "execution_count": 67,
   "id": "6921c0c4",
   "metadata": {},
   "outputs": [
    {
     "data": {
      "image/png": "[encoded data removed]",
      "text/plain": [
       "<Figure size 1000x600 with 1 Axes>"
      ]
     },
     "metadata": {},
     "output_type": "display_data"
    }
   ],
   "source": [
    "import matplotlib.pyplot as plt\n",
    "\n",
    "# Accuracy scores before hyperparameter tuning\n",
    "accuracies_before_tuning = [69.87, 87.5, 89.65]  # Accuracy scores for Random Forest, KNN, Ensemble Bagging Trees\n",
    "\n",
    "# Accuracy scores after hyperparameter tuning\n",
    "accuracies_after_tuning = [83.55, 91.5, 92.42]  # Accuracy scores for Random Forest, KNN, Ensemble Bagging Trees\n",
    "\n",
    "models = ['Random Forest', 'KNN', 'Ensemble Bagging Trees']\n",
    "\n",
    "plt.figure(figsize=(10, 6))\n",
    "\n",
    "bar_width = 0.35  # Reducing the width of bars\n",
    "\n",
    "# Adjusting colors for before and after tuning bars\n",
    "plt.bar(models, accuracies_before_tuning, color='green', alpha=1, width=bar_width, label='Before Tuning')\n",
    "plt.bar(models, accuracies_after_tuning, color='orange', alpha=0.5, width=bar_width, label='After Tuning')\n",
    "\n",
    "plt.xlabel('Models')\n",
    "plt.ylabel('Accuracy')\n",
    "plt.legend()\n",
    "plt.ylim(60, 100)\n",
    "\n",
    "plt.show()\n"
   ]
  },
  {
   "cell_type": "code",
   "execution_count": null,
   "id": "383612a9",
   "metadata": {},
   "outputs": [],
   "source": []
  },
  {
   "cell_type": "code",
   "execution_count": 210,
   "id": "213324ef",
   "metadata": {},
   "outputs": [
    {
     "data": {
      "image/png": "[encoded data removed]",
      "text/plain": [
       "<Figure size 640x480 with 1 Axes>"
      ]
     },
     "metadata": {},
     "output_type": "display_data"
    }
   ],
   "source": [
    "import matplotlib.pyplot as plt\n",
    "import numpy as np\n",
    "\n",
    "species = (\"Precision\", \"Recall\",\"f1-score\")\n",
    "penguin_means = {\n",
    "    'Random forest': (0,0,0),\n",
    "    'Bagging Classifier': (95,85,90),\n",
    "    'K-nearest neighbor': (93,89,91)\n",
    "}\n",
    "\n",
    "x = np.arange(len(species))  # the label locations\n",
    "width = 0.25  # the width of the bars\n",
    "multiplier = 0\n",
    "\n",
    "fig, ax = plt.subplots(layout='constrained')\n",
    "\n",
    "for attribute, measurement in penguin_means.items():\n",
    "    offset = width * multiplier\n",
    "    rects = ax.bar(x + offset, measurement, width, label=attribute)\n",
    "    ax.bar_label(rects, padding=3)\n",
    "    multiplier += 1\n",
    "\n",
    "# Add some text for labels, title and custom x-axis tick labels, etc.\n",
    "ax.set_ylabel('Percentange')\n",
    "ax.set_xticks(x + width, species)\n",
    "ax.legend(loc='upper left', ncols=3)\n",
    "ax.set_ylim(0, 250)\n",
    "\n",
    "plt.show()"
   ]
  },
  {
   "cell_type": "code",
   "execution_count": 64,
   "id": "e5026c8c",
   "metadata": {},
   "outputs": [
    {
     "data": {
      "image/png": "[encoded data removed]",
      "text/plain": [
       "<Figure size 1000x600 with 1 Axes>"
      ]
     },
     "metadata": {},
     "output_type": "display_data"
    }
   ],
   "source": [
    "import matplotlib.pyplot as plt\n",
    "import numpy as np\n",
    "\n",
    "# Precision, recall, and F1-scores before hyperparameter tuning\n",
    "precision_before = [0.92, 0.72, 0.71]  # Precision scores for Random Forest, KNN, Ensemble Bagging Trees\n",
    "recall_before = [0.24, 0.89, 0.87]  # Recall scores for Random Forest, KNN, Ensemble Bagging Trees\n",
    "f1_before = [0.38, 0.81, 0.78]  # F1-scores for Random Forest, KNN, Ensemble Bagging Trees\n",
    "\n",
    "# Precision, recall, and F1-scores after hyperparameter tuning\n",
    "precision_after = [0.86, 0.95, 0.89]  # Precision scores for Random Forest, KNN, Ensemble Bagging Trees\n",
    "recall_after = [0.53, 0.93, 0.83]  # Recall scores for Random Forest, KNN, Ensemble Bagging Trees\n",
    "f1_after = [0.66, 0.81, 0.86]  # F1-scores for Random Forest, KNN, Ensemble Bagging Trees\n",
    "\n",
    "models = ['Random Forest', 'KNN', 'Ensemble Bagging Trees']\n",
    "labels = ['Precision', 'Recall', 'F1-score']\n",
    "bar_width = 0.2\n",
    "x = np.arange(len(models))\n",
    "\n",
    "plt.figure(figsize=(10, 6))\n",
    "\n",
    "for i, metric in enumerate([precision_before, recall_before, f1_before]):\n",
    "    plt.bar(x + i * bar_width, metric, width=bar_width, label=labels[i] + ' Before Tuning', alpha=0.7)\n",
    "\n",
    "for i, metric in enumerate([precision_after, recall_after, f1_after]):\n",
    "    plt.bar(x + i * bar_width, metric, width=bar_width, alpha=0.7, label=labels[i] + ' After Tuning')\n",
    "\n",
    "plt.xlabel('Models')\n",
    "plt.ylabel('Scores')\n",
    "plt.title('Performance Metrics before and after Hyperparameter Tuning')\n",
    "plt.xticks(x + bar_width, models)\n",
    "plt.legend()\n",
    "plt.ylim(0, 1.2)\n",
    "\n",
    "plt.show()\n"
   ]
  },
  {
   "cell_type": "code",
   "execution_count": 43,
   "id": "0458a19a",
   "metadata": {},
   "outputs": [
    {
     "ename": "TypeError",
     "evalue": "subplot() takes 1 or 3 positional arguments but 2 were given",
     "output_type": "error",
     "traceback": [
      "\u001b[1;31m---------------------------------------------------------------------------\u001b[0m",
      "\u001b[1;31mTypeError\u001b[0m                                 Traceback (most recent call last)",
      "Cell \u001b[1;32mIn[43], line 16\u001b[0m\n\u001b[0;32m     13\u001b[0m multiplier \u001b[38;5;241m=\u001b[39m \u001b[38;5;241m0\u001b[39m\n\u001b[0;32m     15\u001b[0m \u001b[38;5;66;03m# fig, ax = plt.subplots(layout='constrained')\u001b[39;00m\n\u001b[1;32m---> 16\u001b[0m \u001b[43mplt\u001b[49m\u001b[38;5;241;43m.\u001b[39;49m\u001b[43msubplot\u001b[49m\u001b[43m(\u001b[49m\u001b[38;5;241;43m5\u001b[39;49m\u001b[43m,\u001b[49m\u001b[38;5;241;43m1\u001b[39;49m\u001b[43m)\u001b[49m\n\u001b[0;32m     18\u001b[0m \u001b[38;5;28;01mfor\u001b[39;00m attribute, measurement \u001b[38;5;129;01min\u001b[39;00m penguin_means\u001b[38;5;241m.\u001b[39mitems():\n\u001b[0;32m     19\u001b[0m     offset \u001b[38;5;241m=\u001b[39m width \u001b[38;5;241m*\u001b[39m multiplier\n",
      "File \u001b[1;32m~\\anaconda3\\lib\\site-packages\\matplotlib\\pyplot.py:1296\u001b[0m, in \u001b[0;36msubplot\u001b[1;34m(*args, **kwargs)\u001b[0m\n\u001b[0;32m   1293\u001b[0m fig \u001b[38;5;241m=\u001b[39m gcf()\n\u001b[0;32m   1295\u001b[0m \u001b[38;5;66;03m# First, search for an existing subplot with a matching spec.\u001b[39;00m\n\u001b[1;32m-> 1296\u001b[0m key \u001b[38;5;241m=\u001b[39m \u001b[43mSubplotSpec\u001b[49m\u001b[38;5;241;43m.\u001b[39;49m\u001b[43m_from_subplot_args\u001b[49m\u001b[43m(\u001b[49m\u001b[43mfig\u001b[49m\u001b[43m,\u001b[49m\u001b[43m \u001b[49m\u001b[43margs\u001b[49m\u001b[43m)\u001b[49m\n\u001b[0;32m   1298\u001b[0m \u001b[38;5;28;01mfor\u001b[39;00m ax \u001b[38;5;129;01min\u001b[39;00m fig\u001b[38;5;241m.\u001b[39maxes:\n\u001b[0;32m   1299\u001b[0m     \u001b[38;5;66;03m# if we found an Axes at the position sort out if we can re-use it\u001b[39;00m\n\u001b[0;32m   1300\u001b[0m     \u001b[38;5;28;01mif\u001b[39;00m ax\u001b[38;5;241m.\u001b[39mget_subplotspec() \u001b[38;5;241m==\u001b[39m key:\n\u001b[0;32m   1301\u001b[0m         \u001b[38;5;66;03m# if the user passed no kwargs, re-use\u001b[39;00m\n",
      "File \u001b[1;32m~\\anaconda3\\lib\\site-packages\\matplotlib\\gridspec.py:581\u001b[0m, in \u001b[0;36mSubplotSpec._from_subplot_args\u001b[1;34m(figure, args)\u001b[0m\n\u001b[0;32m    579\u001b[0m     rows, cols, num \u001b[38;5;241m=\u001b[39m args\n\u001b[0;32m    580\u001b[0m \u001b[38;5;28;01melse\u001b[39;00m:\n\u001b[1;32m--> 581\u001b[0m     \u001b[38;5;28;01mraise\u001b[39;00m _api\u001b[38;5;241m.\u001b[39mnargs_error(\u001b[38;5;124m\"\u001b[39m\u001b[38;5;124msubplot\u001b[39m\u001b[38;5;124m\"\u001b[39m, takes\u001b[38;5;241m=\u001b[39m\u001b[38;5;124m\"\u001b[39m\u001b[38;5;124m1 or 3\u001b[39m\u001b[38;5;124m\"\u001b[39m, given\u001b[38;5;241m=\u001b[39m\u001b[38;5;28mlen\u001b[39m(args))\n\u001b[0;32m    583\u001b[0m gs \u001b[38;5;241m=\u001b[39m GridSpec\u001b[38;5;241m.\u001b[39m_check_gridspec_exists(figure, rows, cols)\n\u001b[0;32m    584\u001b[0m \u001b[38;5;28;01mif\u001b[39;00m gs \u001b[38;5;129;01mis\u001b[39;00m \u001b[38;5;28;01mNone\u001b[39;00m:\n",
      "\u001b[1;31mTypeError\u001b[0m: subplot() takes 1 or 3 positional arguments but 2 were given"
     ]
    },
    {
     "data": {
      "text/plain": [
       "<Figure size 640x480 with 0 Axes>"
      ]
     },
     "metadata": {},
     "output_type": "display_data"
    }
   ],
   "source": [
    "import matplotlib.pyplot as plt\n",
    "import numpy as np\n",
    "\n",
    "species = (\"Precision\", \"Recall\",\"f1-score\")\n",
    "penguin_means = {\n",
    "    'Random forest': (48,52,50),\n",
    "    'Bagging Classifier': (86,69,76),\n",
    "    'K-nearest neighbor': (86,70,77)\n",
    "}\n",
    "\n",
    "x = np.arange(len(species))  # the label locations\n",
    "width = 0.25  # the width of the bars\n",
    "multiplier = 0\n",
    "\n",
    "fig, ax = plt.subplots(layout='constrained')\n",
    "\n",
    "for attribute, measurement in penguin_means.items():\n",
    "    offset = width * multiplier\n",
    "    rects = ax.bar(x + offset, measurement, width, label=attribute)\n",
    "    ax.bar_label(rects, padding=3)\n",
    "    multiplier += 1\n",
    "\n",
    "# Add some text for labels, title and custom x-axis tick labels, etc.\n",
    "ax.set_ylabel('Percentange')\n",
    "ax.set_xticks(x + width, species)\n",
    "ax.legend(loc='upper left', ncols=3)\n",
    "ax.set_ylim(0, 250)\n",
    "\n",
    "plt.show()"
   ]
  },
  {
   "cell_type": "code",
   "execution_count": 212,
   "id": "18560e5d",
   "metadata": {},
   "outputs": [
    {
     "data": {
      "image/png": "[encoded data removed]",
      "text/plain": [
       "<Figure size 640x480 with 1 Axes>"
      ]
     },
     "metadata": {},
     "output_type": "display_data"
    }
   ],
   "source": [
    "import matplotlib.pyplot as plt\n",
    "import numpy as np\n",
    "\n",
    "species = (\"Precision\", \"Recall\",\"f1-score\")\n",
    "penguin_means = {\n",
    "    'Random forest': (43,61,50),\n",
    "    'Bagging Classifier': (73,79,76),\n",
    "    'K-nearest neighbor': (90,61,72)\n",
    "}\n",
    "\n",
    "x = np.arange(len(species))  # the label locations\n",
    "width = 0.25  # the width of the bars\n",
    "multiplier = 0\n",
    "\n",
    "fig, ax = plt.subplots(layout='constrained')\n",
    "\n",
    "for attribute, measurement in penguin_means.items():\n",
    "    offset = width * multiplier\n",
    "    rects = ax.bar(x + offset, measurement, width, label=attribute)\n",
    "    ax.bar_label(rects, padding=3)\n",
    "    multiplier += 1\n",
    "\n",
    "# Add some text for labels, title and custom x-axis tick labels, etc.\n",
    "ax.set_ylabel('Percentange')\n",
    "ax.set_xticks(x + width, species)\n",
    "ax.legend(loc='upper left', ncols=3)\n",
    "ax.set_ylim(0, 250)\n",
    "\n",
    "plt.show()"
   ]
  },
  {
   "cell_type": "code",
   "execution_count": 213,
   "id": "6ed58436",
   "metadata": {},
   "outputs": [
    {
     "data": {
      "image/png": "[encoded data removed]",
      "text/plain": [
       "<Figure size 640x480 with 1 Axes>"
      ]
     },
     "metadata": {},
     "output_type": "display_data"
    }
   ],
   "source": [
    "import matplotlib.pyplot as plt\n",
    "import numpy as np\n",
    "\n",
    "species = (\"Precision\", \"Recall\",\"f1-score\")\n",
    "penguin_means = {\n",
    "    'Random forest': (92,100,96),\n",
    "    'Bagging Classifier': (99,100,99),\n",
    "    'K-nearest neighbor': (90,61,72)\n",
    "}\n",
    "\n",
    "x = np.arange(len(species))  # the label locations\n",
    "width = 0.25  # the width of the bars\n",
    "multiplier = 0\n",
    "\n",
    "fig, ax = plt.subplots(layout='constrained')\n",
    "\n",
    "for attribute, measurement in penguin_means.items():\n",
    "    offset = width * multiplier\n",
    "    rects = ax.bar(x + offset, measurement, width, label=attribute)\n",
    "    ax.bar_label(rects, padding=3)\n",
    "    multiplier += 1\n",
    "\n",
    "# Add some text for labels, title and custom x-axis tick labels, etc.\n",
    "ax.set_ylabel('Percentange')\n",
    "ax.set_xticks(x + width, species)\n",
    "ax.legend(loc='upper left', ncols=3)\n",
    "ax.set_ylim(0, 250)\n",
    "\n",
    "plt.show()"
   ]
  },
  {
   "cell_type": "code",
   "execution_count": 214,
   "id": "eb67bcfe",
   "metadata": {},
   "outputs": [],
   "source": [
    "bg_clf = BaggingClassifier(random_state=1)"
   ]
  },
  {
   "cell_type": "code",
   "execution_count": 215,
   "id": "66abe203",
   "metadata": {},
   "outputs": [
    {
     "name": "stdout",
     "output_type": "stream",
     "text": [
      "Fitting 5 folds for each of 112 candidates, totalling 560 fits\n"
     ]
    },
    {
     "data": {
      "text/html": [
       "<style>#sk-container-id-10 {color: black;background-color: white;}#sk-container-id-10 pre{padding: 0;}#sk-container-id-10 div.sk-toggleable {background-color: white;}#sk-container-id-10 label.sk-toggleable__label {cursor: pointer;display: block;width: 100%;margin-bottom: 0;padding: 0.3em;box-sizing: border-box;text-align: center;}#sk-container-id-10 label.sk-toggleable__label-arrow:before {content: \"▸\";float: left;margin-right: 0.25em;color: #696969;}#sk-container-id-10 label.sk-toggleable__label-arrow:hover:before {color: black;}#sk-container-id-10 div.sk-estimator:hover label.sk-toggleable__label-arrow:before {color: black;}#sk-container-id-10 div.sk-toggleable__content {max-height: 0;max-width: 0;overflow: hidden;text-align: left;background-color: #f0f8ff;}#sk-container-id-10 div.sk-toggleable__content pre {margin: 0.2em;color: black;border-radius: 0.25em;background-color: #f0f8ff;}#sk-container-id-10 input.sk-toggleable__control:checked~div.sk-toggleable__content {max-height: 200px;max-width: 100%;overflow: auto;}#sk-container-id-10 input.sk-toggleable__control:checked~label.sk-toggleable__label-arrow:before {content: \"▾\";}#sk-container-id-10 div.sk-estimator input.sk-toggleable__control:checked~label.sk-toggleable__label {background-color: #d4ebff;}#sk-container-id-10 div.sk-label input.sk-toggleable__control:checked~label.sk-toggleable__label {background-color: #d4ebff;}#sk-container-id-10 input.sk-hidden--visually {border: 0;clip: rect(1px 1px 1px 1px);clip: rect(1px, 1px, 1px, 1px);height: 1px;margin: -1px;overflow: hidden;padding: 0;position: absolute;width: 1px;}#sk-container-id-10 div.sk-estimator {font-family: monospace;background-color: #f0f8ff;border: 1px dotted black;border-radius: 0.25em;box-sizing: border-box;margin-bottom: 0.5em;}#sk-container-id-10 div.sk-estimator:hover {background-color: #d4ebff;}#sk-container-id-10 div.sk-parallel-item::after {content: \"\";width: 100%;border-bottom: 1px solid gray;flex-grow: 1;}#sk-container-id-10 div.sk-label:hover label.sk-toggleable__label {background-color: #d4ebff;}#sk-container-id-10 div.sk-serial::before {content: \"\";position: absolute;border-left: 1px solid gray;box-sizing: border-box;top: 0;bottom: 0;left: 50%;z-index: 0;}#sk-container-id-10 div.sk-serial {display: flex;flex-direction: column;align-items: center;background-color: white;padding-right: 0.2em;padding-left: 0.2em;position: relative;}#sk-container-id-10 div.sk-item {position: relative;z-index: 1;}#sk-container-id-10 div.sk-parallel {display: flex;align-items: stretch;justify-content: center;background-color: white;position: relative;}#sk-container-id-10 div.sk-item::before, #sk-container-id-10 div.sk-parallel-item::before {content: \"\";position: absolute;border-left: 1px solid gray;box-sizing: border-box;top: 0;bottom: 0;left: 50%;z-index: -1;}#sk-container-id-10 div.sk-parallel-item {display: flex;flex-direction: column;z-index: 1;position: relative;background-color: white;}#sk-container-id-10 div.sk-parallel-item:first-child::after {align-self: flex-end;width: 50%;}#sk-container-id-10 div.sk-parallel-item:last-child::after {align-self: flex-start;width: 50%;}#sk-container-id-10 div.sk-parallel-item:only-child::after {width: 0;}#sk-container-id-10 div.sk-dashed-wrapped {border: 1px dashed gray;margin: 0 0.4em 0.5em 0.4em;box-sizing: border-box;padding-bottom: 0.4em;background-color: white;}#sk-container-id-10 div.sk-label label {font-family: monospace;font-weight: bold;display: inline-block;line-height: 1.2em;}#sk-container-id-10 div.sk-label-container {text-align: center;}#sk-container-id-10 div.sk-container {/* jupyter's `normalize.less` sets `[hidden] { display: none; }` but bootstrap.min.css set `[hidden] { display: none !important; }` so we also need the `!important` here to be able to override the default hidden behavior on the sphinx rendered scikit-learn.org. See: https://github.com/scikit-learn/scikit-learn/issues/21755 */display: inline-block !important;position: relative;}#sk-container-id-10 div.sk-text-repr-fallback {display: none;}</style><div id=\"sk-container-id-10\" class=\"sk-top-container\"><div class=\"sk-text-repr-fallback\"><pre>GridSearchCV(cv=5, estimator=BaggingClassifier(random_state=1), n_jobs=-1,\n",
       "             param_grid={&#x27;bootstrap&#x27;: [True, False],\n",
       "                         &#x27;bootstrap_features&#x27;: [True, False],\n",
       "                         &#x27;max_features&#x27;: [0.9, 0.92, 0.95, 1.0],\n",
       "                         &#x27;n_estimators&#x27;: [10, 20, 30, 40, 100, 300, 400]},\n",
       "             verbose=1)</pre><b>In a Jupyter environment, please rerun this cell to show the HTML representation or trust the notebook. <br />On GitHub, the HTML representation is unable to render, please try loading this page with nbviewer.org.</b></div><div class=\"sk-container\" hidden><div class=\"sk-item sk-dashed-wrapped\"><div class=\"sk-label-container\"><div class=\"sk-label sk-toggleable\"><input class=\"sk-toggleable__control sk-hidden--visually\" id=\"sk-estimator-id-16\" type=\"checkbox\" ><label for=\"sk-estimator-id-16\" class=\"sk-toggleable__label sk-toggleable__label-arrow\">GridSearchCV</label><div class=\"sk-toggleable__content\"><pre>GridSearchCV(cv=5, estimator=BaggingClassifier(random_state=1), n_jobs=-1,\n",
       "             param_grid={&#x27;bootstrap&#x27;: [True, False],\n",
       "                         &#x27;bootstrap_features&#x27;: [True, False],\n",
       "                         &#x27;max_features&#x27;: [0.9, 0.92, 0.95, 1.0],\n",
       "                         &#x27;n_estimators&#x27;: [10, 20, 30, 40, 100, 300, 400]},\n",
       "             verbose=1)</pre></div></div></div><div class=\"sk-parallel\"><div class=\"sk-parallel-item\"><div class=\"sk-item\"><div class=\"sk-label-container\"><div class=\"sk-label sk-toggleable\"><input class=\"sk-toggleable__control sk-hidden--visually\" id=\"sk-estimator-id-17\" type=\"checkbox\" ><label for=\"sk-estimator-id-17\" class=\"sk-toggleable__label sk-toggleable__label-arrow\">estimator: BaggingClassifier</label><div class=\"sk-toggleable__content\"><pre>BaggingClassifier(random_state=1)</pre></div></div></div><div class=\"sk-serial\"><div class=\"sk-item\"><div class=\"sk-estimator sk-toggleable\"><input class=\"sk-toggleable__control sk-hidden--visually\" id=\"sk-estimator-id-18\" type=\"checkbox\" ><label for=\"sk-estimator-id-18\" class=\"sk-toggleable__label sk-toggleable__label-arrow\">BaggingClassifier</label><div class=\"sk-toggleable__content\"><pre>BaggingClassifier(random_state=1)</pre></div></div></div></div></div></div></div></div></div></div>"
      ],
      "text/plain": [
       "GridSearchCV(cv=5, estimator=BaggingClassifier(random_state=1), n_jobs=-1,\n",
       "             param_grid={'bootstrap': [True, False],\n",
       "                         'bootstrap_features': [True, False],\n",
       "                         'max_features': [0.9, 0.92, 0.95, 1.0],\n",
       "                         'n_estimators': [10, 20, 30, 40, 100, 300, 400]},\n",
       "             verbose=1)"
      ]
     },
     "execution_count": 215,
     "metadata": {},
     "output_type": "execute_result"
    }
   ],
   "source": [
    "parameters = {\n",
    "    'n_estimators': [10,20,30,40,100,300,400],\n",
    "    'max_features': [0.90, 0.92, 0.95, 1.0],\n",
    "    'bootstrap': [True, False],\n",
    "    'bootstrap_features': [True, False],\n",
    "}\n",
    "clf = GridSearchCV(bg_clf, parameters, verbose = 1, cv=5, n_jobs = -1)\n",
    "clf.fit(X_train,y_train)"
   ]
  },
  {
   "cell_type": "code",
   "execution_count": 222,
   "id": "95fc6f98",
   "metadata": {},
   "outputs": [
    {
     "data": {
      "text/plain": [
       "0.92718407960199"
      ]
     },
     "execution_count": 222,
     "metadata": {},
     "output_type": "execute_result"
    }
   ],
   "source": [
    "clf.best_score_"
   ]
  },
  {
   "cell_type": "code",
   "execution_count": 227,
   "id": "2a0f17a6",
   "metadata": {},
   "outputs": [
    {
     "name": "stdout",
     "output_type": "stream",
     "text": [
      "Best parameters found after hyperparameter tunning are for ensemble bagged tree\n"
     ]
    },
    {
     "data": {
      "text/plain": [
       "{'bootstrap': True,\n",
       " 'bootstrap_features': True,\n",
       " 'max_features': 0.95,\n",
       " 'n_estimators': 300}"
      ]
     },
     "execution_count": 227,
     "metadata": {},
     "output_type": "execute_result"
    }
   ],
   "source": [
    "print(\"Best parameters found after hyperparameter tunning are for ensemble bagged tree\")\n",
    "clf.best_params_"
   ]
  },
  {
   "cell_type": "code",
   "execution_count": 38,
   "id": "185b4251",
   "metadata": {},
   "outputs": [
    {
     "name": "stdout",
     "output_type": "stream",
     "text": [
      "                   precision    recall  f1-score   support\n",
      "\n",
      "  Collision_Link5       0.71      0.87      0.78        46\n",
      "  Collision_Link6       0.89      0.83      0.86        47\n",
      "Intentional_Link5       0.89      0.74      0.81        87\n",
      "Intentional_Link6       0.85      0.94      0.89        71\n",
      "       Noncontact       1.00      1.00      1.00       290\n",
      "\n",
      "         accuracy                           0.92       541\n",
      "        macro avg       0.87      0.88      0.87       541\n",
      "     weighted avg       0.93      0.92      0.92       541\n",
      "\n"
     ]
    }
   ],
   "source": [
    "bag_tuned = BaggingClassifier(n_estimators=300,bootstrap=True,bootstrap_features=True,max_features=0.95,random_state=0)\n",
    "bag_tuned.fit(X_train,y_train)\n",
    "pred_bag_tuned_test=bag_tuned.predict(X_test)\n",
    "print(classification_report(y_test,pred_bag_tuned_test))\n",
    "pred_bag_test=bag_tuned.predict(X_test)"
   ]
  },
  {
   "cell_type": "code",
   "execution_count": 39,
   "id": "d9756785",
   "metadata": {},
   "outputs": [
    {
     "name": "stdout",
     "output_type": "stream",
     "text": [
      "Accuracy of ensemble bagging tree model in test dataset is 92.42%\n"
     ]
    }
   ],
   "source": [
    "acc_bg_tuned=accuracy_score(y_test,pred_bag_tuned_test)\n",
    "print(\"Accuracy of ensemble bagging tree model in test dataset is \" +str(round(acc_bg_tuned*100,2))+\"%\")"
   ]
  },
  {
   "cell_type": "code",
   "execution_count": null,
   "id": "771d5537",
   "metadata": {},
   "outputs": [],
   "source": []
  }
 ],
 "metadata": {
  "kernelspec": {
   "display_name": "Python 3 (ipykernel)",
   "language": "python",
   "name": "python3"
  },
  "language_info": {
   "codemirror_mode": {
    "name": "ipython",
    "version": 3
   },
   "file_extension": ".py",
   "mimetype": "text/x-python",
   "name": "python",
   "nbconvert_exporter": "python",
   "pygments_lexer": "ipython3",
   "version": "3.10.9"
  }
 },
 "nbformat": 4,
 "nbformat_minor": 5
}
